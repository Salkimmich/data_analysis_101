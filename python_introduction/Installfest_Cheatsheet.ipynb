{
 "cells": [
  {
   "cell_type": "markdown",
   "id": "2e2c57d2",
   "metadata": {},
   "source": [
    "## Quick Cheatsheet\n",
    "\n",
    "**Hugging Face Spaces**\n",
    "- Create: https://huggingface.co/spaces\n",
    "- Use Docker SDK for Jupyter-based workflows\n",
    "- Expose port 8080 for the app to be accessible\n",
    "\n",
    "**Google Colab**\n",
    "- Launch: https://colab.research.google.com\n",
    "- Open notebooks from GitHub or upload directly\n",
    "- Save a copy to Drive to retain edits\n",
    "- Install libraries inside cells using `!pip install`\n",
    "\n",
    "**Jupyter Notebook**\n",
    "- `Shift + Enter`: run the current cell\n",
    "- `M` / `Y`: switch between Markdown and Code mode\n",
    "- `?function` / `%%time`: use help and timing tools"
   ]
  }
 ],
 "metadata": {},
 "nbformat": 4,
 "nbformat_minor": 5
}
