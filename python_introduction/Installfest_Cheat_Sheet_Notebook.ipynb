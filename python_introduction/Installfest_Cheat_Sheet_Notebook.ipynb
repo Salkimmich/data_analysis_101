{
 "cells": [
  {
   "cell_type": "markdown",
   "id": "acc78dc7",
   "metadata": {},
   "source": [
    "# Installfest Reference Notebook\n",
    "\n",
    "This notebook includes everything you need to know to confidently use Hugging Face Spaces, Google Colab, and Jupyter Notebooks for data science and machine learning work, particularly for those working with healthcare data."
   ]
  },
  {
   "cell_type": "markdown",
   "id": "b168855e",
   "metadata": {},
   "source": [
    "## Hugging Face Spaces\n",
    "\n",
    "**What is it?** A platform to host apps and notebooks, including ML demos.\n",
    "\n",
    "### Quick Setup Steps:\n",
    "1. Go to [https://huggingface.co/spaces](https://huggingface.co/spaces)\n",
    "2. Click 'Create new Space'\n",
    "3. Choose **Docker** as the SDK\n",
    "4. Add your files:\n",
    "   - `Dockerfile` with Jupyter start command\n",
    "   - Notebooks (.ipynb)\n",
    "   - `requirements.txt`\n",
    "5. Port **8080** must be exposed\n",
    "\n",
    "### Tips:\n",
    "- Spaces are public by default\n",
    "- Don't hard-code tokens or passwords\n",
    "- You can load datasets with `load_dataset()` from `datasets`\n",
    "- Add a README.md to describe your Space"
   ]
  },
  {
   "cell_type": "markdown",
   "id": "b35336c4",
   "metadata": {},
   "source": [
    "## Google Colab\n",
    "\n",
    "**What is it?** A hosted Jupyter Notebook platform by Google.\n",
    "\n",
    "### Opening Notebooks:\n",
    "- Direct link from GitHub: `https://colab.research.google.com/github/<user>/<repo>/blob/main/<notebook>.ipynb`\n",
    "- File → Upload → Browse `.ipynb`\n",
    "- Save a copy to Drive: File → Save a Copy in Drive\n",
    "\n",
    "### Common Commands:\n",
    "- Install libraries: `!pip install <library>`\n",
    "- Mount Drive: `from google.colab import drive; drive.mount('/content/drive')`\n",
    "- Change runtime: Runtime → Change Runtime Type\n",
    "- Use dark mode: Tools → Settings → Theme"
   ]
  },
  {
   "cell_type": "markdown",
   "id": "6f3bb3ab",
   "metadata": {},
   "source": [
    "## Jupyter Notebook Usage Tips\n",
    "\n",
    "### Keyboard Shortcuts:\n",
    "| Action                   | Shortcut          |\n",
    "|--------------------------|-------------------|\n",
    "| Run current cell         | Shift + Enter     |\n",
    "| Run & insert new cell    | Alt + Enter       |\n",
    "| Add cell above/below     | A (above), B (below) |\n",
    "| Delete cell              | DD (press D twice) |\n",
    "| Markdown mode            | M                 |\n",
    "| Code mode                | Y                 |\n",
    "| Comment line             | Ctrl/Cmd + /      |\n",
    "| Help/docstring           | `?func` or `help(func)` |\n",
    "| Execution time profiling | `%%time`, `%%timeit` |\n",
    "\n",
    "### Best Practices:\n",
    "- Use Markdown cells to explain steps clearly\n",
    "- Name variables meaningfully\n",
    "- Use `print()` or final expressions to show results\n",
    "- Save often: File → Download `.ipynb` or `.py`"
   ]
  },
  {
   "cell_type": "markdown",
   "id": "f06f3cae",
   "metadata": {},
   "source": [
    "## Quick Cheat Sheet\n",
    "\n",
    "### Hugging Face Spaces:\n",
    "- Create space at: https://huggingface.co/spaces\n",
    "- Use Docker SDK for Jupyter-based projects\n",
    "- Expose port 8080\n",
    "- Public by default, good for education\n",
    "\n",
    "### Google Colab:\n",
    "- Load GitHub notebooks via URL\n",
    "- Save to Drive to retain changes\n",
    "- `!pip install` to add packages\n",
    "- Use GPU: Runtime → Change Runtime → GPU\n",
    "\n",
    "### Jupyter Notebook:\n",
    "- `Shift+Enter` to run cell\n",
    "- `A/B` to insert cells\n",
    "- `DD` to delete cells\n",
    "- Markdown formatting: headers, lists, code blocks\n",
    "- `%%time` and `?function` for productivity\n",
    "\n",
    "### Useful Links:\n",
    "- Hugging Face Docs: https://huggingface.co/docs/hub/spaces\n",
    "- Google Colab: https://colab.research.google.com\n",
    "- Datasets Guide: https://huggingface.co/docs/datasets\n",
    "- Jupyter Docs: https://jupyter-notebook.readthedocs.io"
   ]
  }
 ],
 "metadata": {},
 "nbformat": 4,
 "nbformat_minor": 5
}
