{
 "cells": [
  {
   "cell_type": "markdown",
   "id": "9f07a2a1",
   "metadata": {},
   "source": [
    "# Python 101 – Foundations of Python Programming for Clinical Data"
   ]
  },
  {
   "cell_type": "markdown",
   "id": "87fd6c16",
   "metadata": {},
   "source": [
    "## Course Overview\n",
    "This notebook introduces core Python concepts and syntax. Learners will be able to write basic scripts, understand foundational programming principles, install and use libraries, and perform simple data manipulations."
   ]
  },
  {
   "cell_type": "markdown",
   "id": "1b92daf2",
   "metadata": {},
   "source": [
    "## Learning Objectives\n",
    "- Set up Python with VS Code, Anaconda, or Jupyter Notebooks\n",
    "- Install and import libraries\n",
    "- Understand Python syntax including variables, types, and control structures\n",
    "- Write basic functions and loops\n",
    "- Handle basic errors\n",
    "- Perform foundational data manipulations"
   ]
  },
  {
   "cell_type": "markdown",
   "id": "dd5de030",
   "metadata": {},
   "source": [
    "## 1. Environment Setup\n",
    "For this course, we recommend using **Google Colab** or **Hugging Face Spaces Notebooks** to avoid local setup complications. These platforms allow you to run Python code directly in your browser and come pre-installed with common data science libraries.\n",
    "\n",
    "### Google Colab\n",
    "- Visit: https://colab.research.google.com\n",
    "- Upload this notebook or open from GitHub/Hugging Face\n",
    "- You can run code cells interactively in the browser\n",
    "\n",
    "### Hugging Face Notebooks (Spaces)\n",
    "- Visit: https://huggingface.co/spaces\n",
    "- Create a new notebook space using `notebook` as the SDK\n",
    "- You can use datasets from the 🤗 HuggingFace Datasets Hub with simple APIs\n",
    "\n",
    "### Optional: Local Setup with VS Code\n",
    "If you prefer working locally:\n",
    "- Install [Python](https://www.python.org/downloads/) and [VS Code](https://code.visualstudio.com/)\n",
    "- Install Jupyter: `pip install notebook`\n",
    "- Launch: `jupyter notebook`\n",
    "\n",
    "Continue below to install packages (if needed) and begin exploring data."
   ]
  },
  {
   "cell_type": "markdown",
   "id": "c563f185",
   "metadata": {},
   "source": [
    "## 2. Installing and Importing Libraries\n",
    "Python packages can be installed using pip. For example:\n",
    "```\n",
    "pip install pandas numpy matplotlib\n",
    "```\n",
    "To use a package in your code, import it with an alias:"
   ]
  },
  {
   "cell_type": "code",
   "execution_count": null,
   "id": "9ac0a54b",
   "metadata": {},
   "outputs": [],
   "source": [
    "import pandas as pd\n",
    "import numpy as np\n",
    "import matplotlib.pyplot as plt"
   ]
  },
  {
   "cell_type": "markdown",
   "id": "7652c1d8",
   "metadata": {},
   "source": [
    "## 3. Python Syntax and Concepts\n",
    "### Variable Assignment and Types\n",
    "Python uses dynamic typing and indentation to define code blocks."
   ]
  },
  {
   "cell_type": "code",
   "execution_count": null,
   "id": "f642a2f2",
   "metadata": {},
   "outputs": [],
   "source": [
    "name = \"Alex\"\n",
    "age = 45\n",
    "smoker = False\n",
    "print(f\"{name} is {age} years old. Smoker: {smoker}\")"
   ]
  },
  {
   "cell_type": "markdown",
   "id": "27366132",
   "metadata": {},
   "source": [
    "### String Formatting\n",
    "Use f-strings for readable and formatted output."
   ]
  },
  {
   "cell_type": "code",
   "execution_count": null,
   "id": "742d051e",
   "metadata": {},
   "outputs": [],
   "source": [
    "bmi = 27.5\n",
    "print(f\"Patient BMI is {bmi:.1f}\")"
   ]
  },
  {
   "cell_type": "markdown",
   "id": "f10b42b2",
   "metadata": {},
   "source": [
    "## 4. Control Flow\n",
    "Use conditional statements to direct code execution."
   ]
  },
  {
   "cell_type": "code",
   "execution_count": null,
   "id": "51cdac93",
   "metadata": {},
   "outputs": [],
   "source": [
    "age = 70\n",
    "if age > 65:\n",
    "    print(\"High risk age group\")\n",
    "elif age > 45:\n",
    "    print(\"Moderate risk\")\n",
    "else:\n",
    "    print(\"Low risk\")"
   ]
  },
  {
   "cell_type": "markdown",
   "id": "8aba9a73",
   "metadata": {},
   "source": [
    "## 5. Loops\n",
    "Use loops to process lists or repeat tasks."
   ]
  },
  {
   "cell_type": "code",
   "execution_count": null,
   "id": "9cb8103e",
   "metadata": {},
   "outputs": [],
   "source": [
    "conditions = [\"hypertension\", \"diabetes\"]\n",
    "for condition in conditions:\n",
    "    print(f\"Condition: {condition}\")"
   ]
  },
  {
   "cell_type": "markdown",
   "id": "0327604c",
   "metadata": {},
   "source": [
    "## 6. Functions\n",
    "Functions help you reuse logic and write clean code."
   ]
  },
  {
   "cell_type": "code",
   "execution_count": null,
   "id": "91dd9271",
   "metadata": {},
   "outputs": [],
   "source": [
    "def calculate_bmi(weight, height):\n",
    "    return weight / (height ** 2)\n",
    "\n",
    "bmi = calculate_bmi(70, 1.75)\n",
    "print(f\"Calculated BMI: {bmi:.2f}\")"
   ]
  },
  {
   "cell_type": "markdown",
   "id": "c23ad5b4",
   "metadata": {},
   "source": [
    "## 7. Error Handling\n",
    "Use try/except blocks to prevent crashes."
   ]
  },
  {
   "cell_type": "code",
   "execution_count": null,
   "id": "b06d0cbf",
   "metadata": {},
   "outputs": [],
   "source": [
    "try:\n",
    "    age = int(input(\"Enter patient age: \"))\n",
    "    print(f\"Age entered: {age}\")\n",
    "except ValueError:\n",
    "    print(\"Invalid input. Please enter a number.\")"
   ]
  },
  {
   "cell_type": "markdown",
   "id": "87d4488d",
   "metadata": {},
   "source": [
    "## 8. Practical Exercise\n",
    "Create a simple patient record using a dictionary and print summary information."
   ]
  },
  {
   "cell_type": "code",
   "execution_count": null,
   "id": "616ddd55",
   "metadata": {},
   "outputs": [],
   "source": [
    "patient = {\n",
    "    \"name\": \"Jordan\",\n",
    "    \"age\": 63,\n",
    "    \"conditions\": [\"asthma\", \"arthritis\"],\n",
    "    \"smoker\": True\n",
    "}\n",
    "\n",
    "print(f\"{patient['name']} is {patient['age']} years old.\")\n",
    "print(f\"Conditions: {', '.join(patient['conditions'])}\")\n",
    "print(f\"Smoker status: {patient['smoker']}\")"
   ]
  },
  {
   "cell_type": "markdown",
   "id": "39632f70",
   "metadata": {},
   "source": [
    "## Summary\n",
    "- Python syntax is clean and readable\n",
    "- You learned how to define variables, functions, loops, and handle errors\n",
    "- You created and interacted with clinical-style data in Python\n",
    "\n",
    "This foundational knowledge is essential for working with healthcare data and preparing for more advanced topics in Python 102."
   ]
  },
  {
   "cell_type": "markdown",
   "id": "18caef94",
   "metadata": {},
   "source": [
    "## Loading Data from Hugging Face Datasets\n",
    "In this course, we use publicly available synthetic healthcare data hosted on Hugging Face. This ensures reproducibility and avoids the need to download large files manually.\n",
    "\n",
    "The dataset is hosted at: https://huggingface.co/datasets/patjs/patient1\n",
    "\n",
    "Using the `datasets` library, we can load the data directly into pandas DataFrames for analysis."
   ]
  },
  {
   "cell_type": "code",
   "execution_count": null,
   "id": "73ccbb9b",
   "metadata": {},
   "outputs": [],
   "source": [
    "!pip install -q datasets\n",
    "\n",
    "from datasets import load_dataset\n",
    "import pandas as pd"
   ]
  },
  {
   "cell_type": "code",
   "execution_count": null,
   "id": "a590bb2b",
   "metadata": {},
   "outputs": [],
   "source": [
    "# Load the dataset from Hugging Face Hub\n",
    "data = load_dataset('patjs/patient1')\n",
    "\n",
    "# Convert to pandas DataFrames\n",
    "patients_df = data['patients'].to_pandas()\n",
    "encounters_df = data['encounters'].to_pandas()"
   ]
  },
  {
   "cell_type": "code",
   "execution_count": null,
   "id": "76681f05",
   "metadata": {},
   "outputs": [],
   "source": [
    "# Preview the datasets\n",
    "print(\"Patients Sample:\")\n",
    "print(patients_df.head())\n",
    "\n",
    "print(\"Encounters Sample:\")\n",
    "print(encounters_df.head())"
   ]
  },
  {
   "cell_type": "markdown",
   "id": "e25e4782",
   "metadata": {},
   "source": [
    "## Previewing Synthetic Healthcare Data\n",
    "To practice working with healthcare data, we will use small sample datasets that resemble those generated by [Synthea](https://synthetichealth.github.io/synthea/), a tool for generating synthetic patient records.\n",
    "\n",
    "These files include patient demographics and clinical encounters."
   ]
  },
  {
   "cell_type": "markdown",
   "id": "40dc4057",
   "metadata": {},
   "source": [
    "### Sample Files\n",
    "- `patients.csv`: Basic patient information\n",
    "- `encounters.csv`: Clinical encounter records for each patient\n",
    "\n",
    "These are simplified and de-identified files meant for educational use."
   ]
  },
  {
   "cell_type": "code",
   "execution_count": null,
   "id": "719bd52d",
   "metadata": {},
   "outputs": [],
   "source": [
    "import pandas as pd\n",
    "\n",
    "# Load sample patient data\n",
    "patients_df = pd.read_csv('patients.csv')\n",
    "print(\"Patients:\")\n",
    "print(patients_df.head())"
   ]
  },
  {
   "cell_type": "code",
   "execution_count": null,
   "id": "1ca1584a",
   "metadata": {},
   "outputs": [],
   "source": [
    "# Load sample encounter data\n",
    "encounters_df = pd.read_csv('encounters.csv')\n",
    "print(\"Encounters:\")\n",
    "print(encounters_df.head())"
   ]
  },
  {
   "cell_type": "markdown",
   "id": "04856c17",
   "metadata": {},
   "source": [
    "### Column Descriptions\n",
    "**patients.csv**:\n",
    "- `Id`: Unique patient identifier (anonymized)\n",
    "- `BIRTHDATE`: Patient date of birth\n",
    "- `GENDER`: Biological sex\n",
    "- `RACE`, `ETHNICITY`: Standard demographic markers\n",
    "- `DEATHDATE`: Included for completeness but blank for living patients\n",
    "\n",
    "**encounters.csv**:\n",
    "- `Id`: Unique encounter ID\n",
    "- `START`, `STOP`: Timestamp of the clinical visit\n",
    "- `PATIENT`: Links to `patients.csv` by patient ID\n",
    "- `REASONDESCRIPTION`: Reason for the encounter (visit purpose)"
   ]
  },
  {
   "cell_type": "markdown",
   "id": "28237246",
   "metadata": {},
   "source": [
    "## 9. Saving Processed Data to Files\n",
    "In real-world healthcare data projects, it's important to export your cleaned or transformed data for downstream analysis or sharing.\n",
    "We will demonstrate how to save a DataFrame to CSV and JSON formats, and explain each step involved."
   ]
  },
  {
   "cell_type": "markdown",
   "id": "193defa1",
   "metadata": {},
   "source": [
    "### Required Setup\n",
    "Ensure the following helper functions and file paths are defined before saving your processed dataset:\n",
    "\n",
    "- A function to load CSVs into pandas DataFrames\n",
    "- A function to normalize encounter data\n",
    "- Functions to convert time columns and remap IDs\n",
    "- A defined path containing clinical CSV files (e.g., 'synthea')"
   ]
  },
  {
   "cell_type": "code",
   "execution_count": null,
   "id": "5e2fb863",
   "metadata": {},
   "outputs": [],
   "source": [
    "# Sample setup\n",
    "path_small = 'synthea'\n",
    "filenames = ['patients.csv', 'encounters.csv', 'observations.csv', 'conditions.csv',\n",
    "             'medications.csv', 'procedures.csv']"
   ]
  },
  {
   "cell_type": "code",
   "execution_count": null,
   "id": "cf8922ed",
   "metadata": {},
   "outputs": [],
   "source": [
    "# Load CSVs into a dictionary of DataFrames\n",
    "df_dict = load_csvs_to_pandas(path_small, filenames)"
   ]
  },
  {
   "cell_type": "code",
   "execution_count": null,
   "id": "5c5b2260",
   "metadata": {},
   "outputs": [],
   "source": [
    "# Normalize encounter information\n",
    "normalized_encounter_df = create_normalized_encounter(df_dict)"
   ]
  },
  {
   "cell_type": "code",
   "execution_count": null,
   "id": "84a93411",
   "metadata": {},
   "outputs": [],
   "source": [
    "# Convert 'START' and 'STOP' time columns to datetime\n",
    "normalized_encounter_df = convert_time_to_datetime(normalized_encounter_df, 'START')\n",
    "normalized_encounter_df = convert_time_to_datetime(normalized_encounter_df, 'STOP')"
   ]
  },
  {
   "cell_type": "code",
   "execution_count": null,
   "id": "10eb9ce6",
   "metadata": {},
   "outputs": [],
   "source": [
    "# Create ID maps for patients and encounters\n",
    "patient_id_map = create_id_map(df_dict['patients'], 'Id')\n",
    "encounter_id_map = create_id_map(df_dict['encounters'], 'Id')"
   ]
  },
  {
   "cell_type": "code",
   "execution_count": null,
   "id": "345dd90d",
   "metadata": {},
   "outputs": [],
   "source": [
    "# Replace GUIDs with integer IDs\n",
    "final_df = replace_complex_ids(normalized_encounter_df, patient_id_map, 'PATIENT_ID')\n",
    "final_df = replace_complex_ids(final_df, encounter_id_map, 'ENCOUNTER_ID')"
   ]
  },
  {
   "cell_type": "markdown",
   "id": "797b754b",
   "metadata": {},
   "source": [
    "### Saving the Final DataFrame\n",
    "Use pandas to save your DataFrame in the following formats:"
   ]
  },
  {
   "cell_type": "code",
   "execution_count": null,
   "id": "dfd14837",
   "metadata": {},
   "outputs": [],
   "source": [
    "# Save to CSV\n",
    "final_df.to_csv('final.csv', index=False)\n",
    "\n",
    "# Save to line-delimited JSON with ISO-formatted dates\n",
    "final_df.to_json('final.json', orient='records', lines=True, date_format='iso')"
   ]
  },
  {
   "cell_type": "markdown",
   "id": "02618d4f",
   "metadata": {},
   "source": [
    "### (Optional) Upload to a Cloud Service or Dataset Repository\n",
    "You can also upload the file to Hugging Face, S3, or another file storage platform if needed.\n",
    "Here’s an example using a placeholder save function:"
   ]
  },
  {
   "cell_type": "code",
   "execution_count": null,
   "id": "571b6cac",
   "metadata": {},
   "outputs": [],
   "source": [
    "with open('final.csv', 'rb') as f:\n",
    "    save_file(f, 'final.csv')  # Replace with your cloud-saving logic"
   ]
  }
 ],
 "metadata": {
  "language_info": {
   "name": "python"
  }
 },
 "nbformat": 4,
 "nbformat_minor": 5
}
