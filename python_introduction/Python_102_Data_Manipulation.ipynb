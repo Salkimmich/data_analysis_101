{
 "cells": [
  {
   "cell_type": "markdown",
   "id": "1d0d7d42",
   "metadata": {},
   "source": [
    "# Python 102 – Data Analysis and Manipulation for Healthcare\n"
   ]
  },
  {
   "cell_type": "markdown",
   "id": "f2bd24ac",
   "metadata": {},
   "source": [
    "## Course Overview\n",
    "This notebook builds on the foundations of Python 101 and introduces structured data manipulation using Python. You will explore core data structures, work with files, and use libraries such as `pandas`, `numpy`, and `matplotlib` to clean, analyze, and visualize healthcare data.\n",
    "\n",
    "This knowledge is essential for developing machine learning pipelines and AI-driven healthcare applications."
   ]
  },
  {
   "cell_type": "markdown",
   "id": "50215dbd",
   "metadata": {},
   "source": [
    "## Learning Objectives\n",
    "- Understand Python’s core data structures (lists, dictionaries, sets, tuples)\n",
    "- Read and write CSV and text files\n",
    "- Use `pandas` and `numpy` to manipulate tabular data\n",
    "- Clean data by handling missing values and filtering\n",
    "- Perform data aggregation with `groupby` and `pivot`\n",
    "- Create basic visualizations using `matplotlib`\n",
    "- Practice exercises using real-world patient data"
   ]
  },
  {
   "cell_type": "markdown",
   "id": "4bc8cdac",
   "metadata": {},
   "source": [
    "## 1. Review: Loading Data from Hugging Face\n",
    "We will use the same synthetic dataset from [patjs/patient1](https://huggingface.co/datasets/patjs/patient1).\n",
    "Ensure you are using Google Colab or Hugging Face Notebooks for best compatibility.\n"
   ]
  },
  {
   "cell_type": "code",
   "execution_count": null,
   "id": "abe7d92a",
   "metadata": {},
   "outputs": [],
   "source": [
    "!pip install -q datasets\n",
    "from datasets import load_dataset\n",
    "import pandas as pd\n",
    "import numpy as np\n",
    "import matplotlib.pyplot as plt"
   ]
  },
  {
   "cell_type": "code",
   "execution_count": null,
   "id": "8965d569",
   "metadata": {},
   "outputs": [],
   "source": [
    "data = load_dataset('patjs/patient1')\n",
    "patients_df = data['patients'].to_pandas()\n",
    "encounters_df = data['encounters'].to_pandas()"
   ]
  },
  {
   "cell_type": "code",
   "execution_count": null,
   "id": "faabf555",
   "metadata": {},
   "outputs": [],
   "source": [
    "print(\"Patients Sample:\")\n",
    "print(patients_df.head())\n",
    "\n",
    "print(\"Encounters Sample:\")\n",
    "print(encounters_df.head())"
   ]
  },
  {
   "cell_type": "markdown",
   "id": "8f50c18d",
   "metadata": {},
   "source": [
    "## 2. Core Data Structures\n",
    "### Lists\n",
    "Ordered, mutable collections used for vitals, medications, and time series."
   ]
  },
  {
   "cell_type": "code",
   "execution_count": null,
   "id": "36947f67",
   "metadata": {},
   "outputs": [],
   "source": [
    "vitals = [98.6, 99.1, 100.2]\n",
    "print(\"Recorded temperatures:\", vitals)"
   ]
  },
  {
   "cell_type": "markdown",
   "id": "32272b82",
   "metadata": {},
   "source": [
    "### Dictionaries\n",
    "Key-value structures ideal for patient records."
   ]
  },
  {
   "cell_type": "code",
   "execution_count": null,
   "id": "4fba40c9",
   "metadata": {},
   "outputs": [],
   "source": [
    "patient = {\n",
    "    \"id\": \"patient-001\",\n",
    "    \"age\": 67,\n",
    "    \"conditions\": [\"diabetes\", \"hypertension\"]\n",
    "}\n",
    "print(patient)"
   ]
  },
  {
   "cell_type": "markdown",
   "id": "cedb5587",
   "metadata": {},
   "source": [
    "### Sets and Tuples\n",
    "Sets are unordered and unique; tuples are fixed-size and immutable."
   ]
  },
  {
   "cell_type": "code",
   "execution_count": null,
   "id": "5a4ad3ec",
   "metadata": {},
   "outputs": [],
   "source": [
    "diagnoses = set([\"hypertension\", \"diabetes\", \"hypertension\"])\n",
    "print(\"Unique diagnoses:\", diagnoses)"
   ]
  },
  {
   "cell_type": "markdown",
   "id": "d7b35508",
   "metadata": {},
   "source": [
    "## 3. Reading and Writing Files\n",
    "Use pandas for loading and saving CSV files."
   ]
  },
  {
   "cell_type": "code",
   "execution_count": null,
   "id": "005719f7",
   "metadata": {},
   "outputs": [],
   "source": [
    "patients_df.to_csv('patients_output.csv', index=False)\n",
    "loaded_df = pd.read_csv('patients_output.csv')\n",
    "print(loaded_df.head())"
   ]
  },
  {
   "cell_type": "markdown",
   "id": "62b013b5",
   "metadata": {},
   "source": [
    "## 4. Data Cleaning\n",
    "### Handle Missing Values"
   ]
  },
  {
   "cell_type": "code",
   "execution_count": null,
   "id": "bfbb75a5",
   "metadata": {},
   "outputs": [],
   "source": [
    "print(patients_df.isnull().sum())\n",
    "patients_df = patients_df.fillna(\"Unknown\")"
   ]
  },
  {
   "cell_type": "markdown",
   "id": "79bbe089",
   "metadata": {},
   "source": [
    "### Filter and Sort"
   ]
  },
  {
   "cell_type": "code",
   "execution_count": null,
   "id": "2bb332ab",
   "metadata": {},
   "outputs": [],
   "source": [
    "older_patients = patients_df[patients_df['BIRTHDATE'] < '1975-01-01']\n",
    "print(older_patients[['Id', 'BIRTHDATE']].head())"
   ]
  },
  {
   "cell_type": "markdown",
   "id": "7e0ca7bd",
   "metadata": {},
   "source": [
    "## 5. Data Aggregation and Pivoting"
   ]
  },
  {
   "cell_type": "code",
   "execution_count": null,
   "id": "643851c5",
   "metadata": {},
   "outputs": [],
   "source": [
    "grouped = encounters_df.groupby('PATIENT').size()\n",
    "print(grouped.head())"
   ]
  },
  {
   "cell_type": "code",
   "execution_count": null,
   "id": "7ee208f3",
   "metadata": {},
   "outputs": [],
   "source": [
    "# Create a pivot if the dataset supports it\n",
    "# Example: Pivot encounter reasons by patient\n",
    "pivot = encounters_df.pivot_table(index='PATIENT', values='Id', aggfunc='count')\n",
    "print(pivot.head())"
   ]
  },
  {
   "cell_type": "markdown",
   "id": "13a56139",
   "metadata": {},
   "source": [
    "## 6. Basic Visualization with matplotlib"
   ]
  },
  {
   "cell_type": "code",
   "execution_count": null,
   "id": "e044955f",
   "metadata": {},
   "outputs": [],
   "source": [
    "plt.hist(pd.to_datetime(patients_df['BIRTHDATE']).dt.year, bins=20)\n",
    "plt.title('Distribution of Birth Years')\n",
    "plt.xlabel('Year')\n",
    "plt.ylabel('Count')\n",
    "plt.show()"
   ]
  },
  {
   "cell_type": "markdown",
   "id": "7947943f",
   "metadata": {},
   "source": [
    "## 7. Practical Exercise\n",
    "Use the `encounters_df` and `patients_df` to answer:\n",
    "- How many encounters does each patient have?\n",
    "- What is the average year of birth?\n",
    "- Plot the gender distribution (requires gender column if available)."
   ]
  },
  {
   "cell_type": "markdown",
   "id": "779345e6",
   "metadata": {},
   "source": [
    "## Summary\n",
    "- You reviewed core data structures and file I/O\n",
    "- You learned how to clean, filter, group, and pivot clinical datasets\n",
    "- You created basic visualizations\n",
    "\n",
    "These skills form the basis for building real-world healthcare analytics pipelines."
   ]
  }
 ],
 "metadata": {},
 "nbformat": 4,
 "nbformat_minor": 5
}
