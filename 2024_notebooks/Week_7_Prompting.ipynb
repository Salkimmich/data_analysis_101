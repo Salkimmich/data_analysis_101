{
  "nbformat": 4,
  "nbformat_minor": 0,
  "metadata": {
    "colab": {
      "provenance": []
    },
    "kernelspec": {
      "name": "python3",
      "display_name": "Python 3"
    },
    "language_info": {
      "name": "python"
    }
  },
  "cells": [
    {
      "cell_type": "code",
      "execution_count": null,
      "metadata": {
        "id": "RW5H3Dq0gv1G",
        "colab": {
          "base_uri": "https://localhost:8080/"
        },
        "outputId": "8bc37b3f-34ab-4e19-f97f-e087698fab94"
      },
      "outputs": [
        {
          "output_type": "stream",
          "name": "stdout",
          "text": [
            "Requirement already satisfied: openai in /usr/local/lib/python3.10/dist-packages (1.54.4)\n",
            "Requirement already satisfied: anyio<5,>=3.5.0 in /usr/local/lib/python3.10/dist-packages (from openai) (3.7.1)\n",
            "Requirement already satisfied: distro<2,>=1.7.0 in /usr/local/lib/python3.10/dist-packages (from openai) (1.9.0)\n",
            "Requirement already satisfied: httpx<1,>=0.23.0 in /usr/local/lib/python3.10/dist-packages (from openai) (0.27.2)\n",
            "Requirement already satisfied: jiter<1,>=0.4.0 in /usr/local/lib/python3.10/dist-packages (from openai) (0.7.1)\n",
            "Requirement already satisfied: pydantic<3,>=1.9.0 in /usr/local/lib/python3.10/dist-packages (from openai) (2.9.2)\n",
            "Requirement already satisfied: sniffio in /usr/local/lib/python3.10/dist-packages (from openai) (1.3.1)\n",
            "Requirement already satisfied: tqdm>4 in /usr/local/lib/python3.10/dist-packages (from openai) (4.66.6)\n",
            "Requirement already satisfied: typing-extensions<5,>=4.11 in /usr/local/lib/python3.10/dist-packages (from openai) (4.12.2)\n",
            "Requirement already satisfied: idna>=2.8 in /usr/local/lib/python3.10/dist-packages (from anyio<5,>=3.5.0->openai) (3.10)\n",
            "Requirement already satisfied: exceptiongroup in /usr/local/lib/python3.10/dist-packages (from anyio<5,>=3.5.0->openai) (1.2.2)\n",
            "Requirement already satisfied: certifi in /usr/local/lib/python3.10/dist-packages (from httpx<1,>=0.23.0->openai) (2024.8.30)\n",
            "Requirement already satisfied: httpcore==1.* in /usr/local/lib/python3.10/dist-packages (from httpx<1,>=0.23.0->openai) (1.0.6)\n",
            "Requirement already satisfied: h11<0.15,>=0.13 in /usr/local/lib/python3.10/dist-packages (from httpcore==1.*->httpx<1,>=0.23.0->openai) (0.14.0)\n",
            "Requirement already satisfied: annotated-types>=0.6.0 in /usr/local/lib/python3.10/dist-packages (from pydantic<3,>=1.9.0->openai) (0.7.0)\n",
            "Requirement already satisfied: pydantic-core==2.23.4 in /usr/local/lib/python3.10/dist-packages (from pydantic<3,>=1.9.0->openai) (2.23.4)\n"
          ]
        }
      ],
      "source": [
        "!pip install openai"
      ]
    },
    {
      "cell_type": "code",
      "source": [
        "from openai import OpenAI\n",
        "from google.colab import userdata\n",
        "\n",
        "\n",
        "OPENAI_OPENAI_KEY = userdata.get(\"OPENAI_KEY\")\n",
        "\n",
        "class LLM:\n",
        "  def __init__(self,\n",
        "               api_key=OPENAI_OPENAI_KEY\n",
        "               ):\n",
        "    self.client = OpenAI(\n",
        "      api_key=api_key,\n",
        "    )\n",
        "\n",
        "  def __call__(self, prompt, tools=None):\n",
        "    response = self.client.chat.completions.create(\n",
        "      model=\"gpt-4o-mini\",\n",
        "      messages=[\n",
        "        {\"role\": \"user\", \"content\": prompt}\n",
        "      ],\n",
        "      tools=tools\n",
        "    )\n",
        "    message = response.choices[0].message.content\n",
        "    return message"
      ],
      "metadata": {
        "id": "UGKoCSAeXOuk"
      },
      "execution_count": null,
      "outputs": []
    },
    {
      "cell_type": "code",
      "source": [
        "llm = LLM()"
      ],
      "metadata": {
        "id": "Nl-UBzK0YDEr"
      },
      "execution_count": null,
      "outputs": []
    },
    {
      "cell_type": "code",
      "source": [
        "with open(\"Meeting transcript.txt\") as f:\n",
        "  lecture_transcript = f.read()"
      ],
      "metadata": {
        "id": "iyps7ZcuwSLz"
      },
      "execution_count": null,
      "outputs": []
    },
    {
      "cell_type": "code",
      "source": [
        "from IPython.display import display, Markdown, JSON\n",
        "\n",
        "prompt = f\"\"\"\n",
        "Summarise\n",
        "\n",
        "{lecture_transcript}\n",
        "\"\"\"\n",
        "\n",
        "output = llm(prompt)\n",
        "display(Markdown(output))"
      ],
      "metadata": {
        "colab": {
          "base_uri": "https://localhost:8080/",
          "height": 314
        },
        "id": "Kp3iFKQdankf",
        "outputId": "35188e8a-9403-4b6d-81e3-9712a7a5c78f"
      },
      "execution_count": null,
      "outputs": [
        {
          "output_type": "display_data",
          "data": {
            "text/plain": [
              "<IPython.core.display.Markdown object>"
            ],
            "text/markdown": "The session begins with Nick Villani welcoming participants and encouraging them to engage by turning on their cameras. He reminds everyone to complete a competency assessment by scanning a QR code and mentions that they would give a few more minutes for latecomers to join before starting the program.\n\nNick introduces the agenda, highlighting that the week will focus on problem definition and the project's scope, including the AI application they will work on, which involves creating a review platform. The discussion covers the importance of understanding the background of AI, various training methods, and common pitfalls in AI projects. Participants are reminded that AI is not a one-size-fits-all solution, and the session underscores the need for proper data management, understanding limitations, and the ethical implications of AI usage.\n\nNick and Arno (the lead lecturer) explain supervised and unsupervised learning, emphasizing that supervised learning uses labeled data to train models, while unsupervised learning identifies patterns in unlabelled data, such as clustering. They also discuss generative AI and its applications, such as automating customer service inquiries.\n\nThe lecture addresses common failures in AI projects, reiterating the significance of clearly defined problems, the availability and quality of data, and the appropriate use of technology. Nick encourages participants to actively participate in workshops, emphasizing the importance of continuous learning and feedback.\n\nFinally, participants are encouraged to engage with their assigned groups for project collaboration and to prepare for upcoming workshops by reviewing the provided learning materials.\n\nOverall, the session aims to equip attendees with foundational knowledge of AI, the importance of ethical considerations, and the practical approach required for upcoming projects and workshops."
          },
          "metadata": {}
        }
      ]
    },
    {
      "cell_type": "code",
      "source": [
        "prompt = f\"\"\"\n",
        "This is a lecture on AI delivered to professionals with tech background.\n",
        "\n",
        "Summarise in markdown\n",
        "- the main topics the lecture covered\n",
        "- the activities performed\n",
        "- the engagement of students\n",
        "- their knowledge on the topics covered\n",
        "\n",
        "{lecture_transcript}\n",
        "\"\"\"\n",
        "\n",
        "output = llm(prompt)\n",
        "display(Markdown(output))"
      ],
      "metadata": {
        "id": "dkGhg1-ua1GC",
        "colab": {
          "base_uri": "https://localhost:8080/",
          "height": 634
        },
        "outputId": "a27c0316-45d9-4bce-e39e-bee40eb4da8a"
      },
      "execution_count": null,
      "outputs": [
        {
          "output_type": "display_data",
          "data": {
            "text/plain": [
              "<IPython.core.display.Markdown object>"
            ],
            "text/markdown": "# Summary of AI Lecture\n\n## Main Topics Covered\n1. **Introduction to AI**: Basics of AI, its history, and significance.\n2. **Generative AI**: Applications and importance in today's world.\n3. **Supervised vs Unsupervised Learning**: Definitions, uses, strengths, and weaknesses.\n4. **Common Failures in AI Projects**: Issues like misunderstanding of problems, data quality, and ethical considerations.\n5. **Metrics for Success**: How to measure the performance of AI models using precision, recall, and accuracy.\n6. **Bias in AI**: Addressing how biases are inherited in datasets and their impact on AI outcomes.\n7. **Ethical Considerations**: Importance of ethics in AI development and usage.\n\n## Activities Performed\n- **QR Code Competency Assessment**: Participants completed a pre-program assessment to gauge their existing knowledge.\n- **Live Polling**: Engaged students to share their thoughts on why AI projects fail through live word clouds.\n- **Miro Board Activity**: Collected feedback on skepticism towards AI capabilities through a collaborative board.\n- **Interactive Discussions**: Engaged in conversations about the current state and future of AI technologies.\n\n## Engagement of Students\n- Students showed high participation through the chat and vocal interactions.\n- Many students expressed excitement and readiness to begin working within the AI framework.\n- Active discussion regarding skepticism about AI, biases, and ethical implications demonstrated a deep interest in the subject matter.\n\n## Knowledge Level of Students\n- Gauge of initial knowledge indicated that participants felt less confident in their AI skills (mostly rated below 3 out of 5).\n- Participants were familiar with basic AI concepts but showed significant room for growth in practical applications, data handling, and ethical concerns regarding AI.\n- The common understanding was that many had limited hands-on experience with building AI models, hence the need for focused training over the course.\n\nThis summary encapsulates the key elements of the AI lecture delivered to tech professionals, emphasizing the structure of the session and participants' contributions."
          },
          "metadata": {}
        }
      ]
    },
    {
      "cell_type": "code",
      "source": [
        "prompt = f\"\"\"\n",
        "This is a lecture on AI delivered to professionals with tech background.\n",
        "\n",
        "Summarise in markdown\n",
        "- the main topics the lecture covered\n",
        "- the activities performed\n",
        "- the engagement of students\n",
        "- their knowledge on the topics covered\n",
        "\n",
        "Add a header for each of the above and bullet points but not nested bullet points.\n",
        "\n",
        "Aim for 200 words.\n",
        "\n",
        "{lecture_transcript}\n",
        "\"\"\"\n",
        "\n",
        "output = llm(prompt)\n",
        "display(Markdown(output))"
      ],
      "metadata": {
        "colab": {
          "base_uri": "https://localhost:8080/",
          "height": 539
        },
        "id": "PgNTx4jgcrkA",
        "outputId": "447a0b19-3644-47b4-e8b0-a133f47b9392"
      },
      "execution_count": null,
      "outputs": [
        {
          "output_type": "display_data",
          "data": {
            "text/plain": [
              "<IPython.core.display.Markdown object>"
            ],
            "text/markdown": "# Summary of AI Lecture for Tech Professionals\n\n## Main Topics Covered\n- Introduction to AI and generative AI concepts\n- Supervised and unsupervised learning methodologies\n- Practical applications of AI in various fields\n- Common failures of AI projects and ethical considerations\n\n## Activities Performed\n- QR code competency assessment for participants\n- Interactive Miro board session for discussing skepticism toward AI\n- Group discussions on metrics, outputs, and ethical implications\n- True/false quizzes on AI facts and statistics\n\n## Engagement of Students\n- Active participation in discussions through chat and Miro boards\n- Questions posed about AI concepts and project scope\n- Sharing insights and personal experiences related to AI applications\n\n## Knowledge on Topics Covered\n- Students expressed lower confidence in building AI solutions, averaging scores around 2 out of 5\n- Common challenges identified included bias, data quality, and understanding AI deployment\n- Participants showcased an eagerness to learn, with some highlighting prior knowledge of AI concepts but limited practical experience\n\nThe lecture set a comprehensive foundation for further exploration into AI, focusing on practical applications, design thinking, and ethical guidelines."
          },
          "metadata": {}
        }
      ]
    },
    {
      "cell_type": "code",
      "source": [
        "prompt = f\"\"\"\n",
        "Categorise the following news titles into political, war, sports, tech, middle east.\n",
        "\n",
        "Only give the category.\n",
        "\n",
        "Desperate situation' in north Gaza, UN says, as it delivers aid for first time in two weeks\n",
        "\"\"\"\n",
        "\n",
        "llm(prompt)"
      ],
      "metadata": {
        "colab": {
          "base_uri": "https://localhost:8080/",
          "height": 35
        },
        "id": "s2A8cUZxgbJX",
        "outputId": "ab0f4af5-f97a-4eeb-ef9b-2aa4afeae152"
      },
      "execution_count": null,
      "outputs": [
        {
          "output_type": "execute_result",
          "data": {
            "text/plain": [
              "'Middle East'"
            ],
            "application/vnd.google.colaboratory.intrinsic+json": {
              "type": "string"
            }
          },
          "metadata": {},
          "execution_count": 30
        }
      ]
    },
    {
      "cell_type": "code",
      "source": [
        "prompt = f\"\"\"\n",
        "Categorise the following news titles into political, war, sports, tech, middle east.\n",
        "\n",
        "Only give the category.\n",
        "\n",
        "Desperate situation' in north Gaza, UN says, as it delivers aid for first time in two weeks\n",
        "War\n",
        "\n",
        "About 400,000 Palestinians remain in northern Gaza, according to the UN, which condemned the large number of civilian casualties in recent days\n",
        "\"\"\"\n",
        "\n",
        "llm(prompt)"
      ],
      "metadata": {
        "colab": {
          "base_uri": "https://localhost:8080/",
          "height": 35
        },
        "id": "u7c2ac-LkpYe",
        "outputId": "69f17645-ed0e-41af-ed72-6cbf6c95ec45"
      },
      "execution_count": null,
      "outputs": [
        {
          "output_type": "execute_result",
          "data": {
            "text/plain": [
              "'Middle East'"
            ],
            "application/vnd.google.colaboratory.intrinsic+json": {
              "type": "string"
            }
          },
          "metadata": {},
          "execution_count": 31
        }
      ]
    },
    {
      "cell_type": "code",
      "source": [
        "prompt = f\"\"\"\n",
        "Categorise the following news titles into political, war, sports, tech, middle east.\n",
        "\n",
        "Only give the category.\n",
        "\n",
        "Desperate situation' in north Gaza, UN says, as it delivers aid for first time in two weeks\n",
        "War\n",
        "\n",
        "Sara Sharif wore hijab to hide injuries - court\n",
        "\"\"\"\n",
        "\n",
        "llm(prompt)"
      ],
      "metadata": {
        "colab": {
          "base_uri": "https://localhost:8080/",
          "height": 35
        },
        "id": "jarQH3S3lv45",
        "outputId": "1d6caf2b-967f-4bf3-cbf0-03fc64f7d88b"
      },
      "execution_count": null,
      "outputs": [
        {
          "output_type": "execute_result",
          "data": {
            "text/plain": [
              "'Political'"
            ],
            "application/vnd.google.colaboratory.intrinsic+json": {
              "type": "string"
            }
          },
          "metadata": {},
          "execution_count": 32
        }
      ]
    },
    {
      "cell_type": "code",
      "source": [
        "prompt = f\"\"\"\n",
        "Categorise the following news titles into political, war, sports, tech, middle east.\n",
        "\n",
        "Only give the category.\n",
        "\n",
        "Desperate situation' in north Gaza, UN says, as it delivers aid for first time in two weeks\n",
        "War\n",
        "\n",
        "Sara Sharif wore hijab to hide injuries - court\n",
        "Middle east\n",
        "\n",
        "The situation is very difficult for Afghan women\n",
        "\"\"\"\n",
        "\n",
        "llm(prompt)"
      ],
      "metadata": {
        "colab": {
          "base_uri": "https://localhost:8080/",
          "height": 35
        },
        "id": "Oa5P0QYGl35V",
        "outputId": "d8125b40-9fbd-41d1-afa6-fcd6f5d4e1c3"
      },
      "execution_count": null,
      "outputs": [
        {
          "output_type": "execute_result",
          "data": {
            "text/plain": [
              "'Middle east'"
            ],
            "application/vnd.google.colaboratory.intrinsic+json": {
              "type": "string"
            }
          },
          "metadata": {},
          "execution_count": 33
        }
      ]
    },
    {
      "cell_type": "code",
      "source": [
        "prompt = f\"\"\"\n",
        "Categorise the following news titles into political, war, sports, tech, middle east.\n",
        "\n",
        "Only give the category.\n",
        "\n",
        "'Desperate situation' in north Gaza, UN says, as it delivers aid for first time in two weeks\n",
        "War\n",
        "\n",
        "Sara Sharif wore hijab to hide injuries - court\n",
        "Middle east\n",
        "\n",
        "When a riot broke out in August, fear gripped members of Muslim communities\n",
        "\"\"\"\n",
        "\n",
        "llm(prompt)"
      ],
      "metadata": {
        "colab": {
          "base_uri": "https://localhost:8080/",
          "height": 35
        },
        "id": "T1bRCXOSmmrp",
        "outputId": "f1f94081-ac97-4719-fa16-65b667af71b5"
      },
      "execution_count": null,
      "outputs": [
        {
          "output_type": "execute_result",
          "data": {
            "text/plain": [
              "'Middle east'"
            ],
            "application/vnd.google.colaboratory.intrinsic+json": {
              "type": "string"
            }
          },
          "metadata": {},
          "execution_count": 34
        }
      ]
    },
    {
      "cell_type": "code",
      "source": [
        "prompt = f\"\"\"\n",
        "Categorise the following news titles into political, war, sports, tech, middle east.\n",
        "\n",
        "Only give the category.\n",
        "\n",
        "Desperate situation' in north Gaza, UN says, as it delivers aid for first time in two weeks\n",
        "War\n",
        "\n",
        "Sara Sharif wore hijab to hide injuries - court\n",
        "Middle east\n",
        "\n",
        "When a riot broke out in August, fear gripped members of Muslim communities\n",
        "political\n",
        "\n",
        "Riots leave women 'too scared to leave home\n",
        "\"\"\"\n",
        "\n",
        "llm(prompt)"
      ],
      "metadata": {
        "colab": {
          "base_uri": "https://localhost:8080/",
          "height": 35
        },
        "id": "8xtXboTvmNKV",
        "outputId": "d536014d-468b-4b76-bdfc-9322a2eadfce"
      },
      "execution_count": null,
      "outputs": [
        {
          "output_type": "execute_result",
          "data": {
            "text/plain": [
              "'Political'"
            ],
            "application/vnd.google.colaboratory.intrinsic+json": {
              "type": "string"
            }
          },
          "metadata": {},
          "execution_count": 35
        }
      ]
    },
    {
      "cell_type": "code",
      "source": [
        "prompt = f\"\"\"\n",
        "Extract organisations, names and dates in JSONL. Only output JSONL.\n",
        "\n",
        "Desperate situation' in north Gaza, UN says, as it delivers aid for first time in two weeks\n",
        "War\n",
        "\n",
        "Sara Sharif wore hijab to hide injuries - court\n",
        "Middle east\n",
        "\n",
        "When a riot broke out in August, fear gripped members of Muslim communities\n",
        "political\n",
        "\n",
        "Riots leave women 'too scared to leave home\n",
        "\"\"\"\n",
        "\n",
        "output = llm(prompt)\n",
        "output"
      ],
      "metadata": {
        "colab": {
          "base_uri": "https://localhost:8080/",
          "height": 52
        },
        "id": "Gczee-4dncy_",
        "outputId": "dd0f28e5-6949-4c01-a6bc-19b0dc0c1d09"
      },
      "execution_count": null,
      "outputs": [
        {
          "output_type": "execute_result",
          "data": {
            "text/plain": [
              "'```jsonl\\n{\"organization\": \"UN\", \"name\": null, \"date\": null}\\n{\"organization\": null, \"name\": \"Sara Sharif\", \"date\": null}\\n{\"organization\": null, \"name\": null, \"date\": \"August\"}\\n{\"organization\": null, \"name\": null, \"date\": null}\\n```'"
            ],
            "application/vnd.google.colaboratory.intrinsic+json": {
              "type": "string"
            }
          },
          "metadata": {},
          "execution_count": 36
        }
      ]
    },
    {
      "cell_type": "markdown",
      "source": [
        "```jsonl\n",
        "{\"organization\": \"UN\", \"name\": null, \"date\": null}\n",
        "{\"organization\": null, \"name\": \"Sara Sharif\", \"date\": null}\n",
        "{\"organization\": null, \"name\": null, \"date\": \"August\"}\n",
        "{\"organization\": null, \"name\": null, \"date\": null}\n",
        "```"
      ],
      "metadata": {
        "id": "fM2Mg3JKn5Nq"
      }
    },
    {
      "cell_type": "code",
      "source": [
        "prompt = f\"\"\"\n",
        "Find the missing side in the following right triangle.\n",
        "\n",
        "Just give the value of the side, no explanation.\n",
        "\n",
        "Opposite: square root of 144\n",
        "Adjacent: square root of 25\n",
        "\"\"\"\n",
        "\n",
        "llm(prompt)"
      ],
      "metadata": {
        "colab": {
          "base_uri": "https://localhost:8080/",
          "height": 35
        },
        "id": "xbAt_Aw3oNGV",
        "outputId": "716c4c9d-ad22-4c2f-a71c-ff03c4a52e92"
      },
      "execution_count": null,
      "outputs": [
        {
          "output_type": "execute_result",
          "data": {
            "text/plain": [
              "'10'"
            ],
            "application/vnd.google.colaboratory.intrinsic+json": {
              "type": "string"
            }
          },
          "metadata": {},
          "execution_count": 37
        }
      ]
    },
    {
      "cell_type": "code",
      "source": [
        "prompt = f\"\"\"\n",
        "Find the missing side in the following right triangle.\n",
        "\n",
        "Think step by step.\n",
        "\n",
        "Opposite: square root of 144\n",
        "Adjacent: square root of 25\n",
        "\"\"\"\n",
        "\n",
        "output = llm(prompt)\n",
        "display(Markdown(output))"
      ],
      "metadata": {
        "colab": {
          "base_uri": "https://localhost:8080/",
          "height": 581
        },
        "id": "IftE1VIgp81b",
        "outputId": "aeae0fa4-c81b-49cf-eff9-6549d7fbb03c"
      },
      "execution_count": null,
      "outputs": [
        {
          "output_type": "display_data",
          "data": {
            "text/plain": [
              "<IPython.core.display.Markdown object>"
            ],
            "text/markdown": "To find the missing side in a right triangle, we can use the Pythagorean theorem, which states:\n\n\\[\na^2 + b^2 = c^2\n\\]\n\nwhere \\(c\\) is the hypotenuse (the longest side), and \\(a\\) and \\(b\\) are the lengths of the other two sides.\n\nIn this case, you provided:\n\n- Opposite side: \\(\\sqrt{144}\\)\n- Adjacent side: \\(\\sqrt{25}\\)\n\nFirst, let's calculate the lengths of the opposite and adjacent sides.\n\n1. Calculate the opposite side:\n   \\[\n   \\sqrt{144} = 12\n   \\]\n\n2. Calculate the adjacent side:\n   \\[\n   \\sqrt{25} = 5\n   \\]\n\nNow, we have:\n\n- Opposite side \\(a = 12\\)\n- Adjacent side \\(b = 5\\)\n\nNext, we want to find the hypotenuse \\(c\\). Using the Pythagorean theorem, we have:\n\n\\[\na^2 + b^2 = c^2\n\\]\n\nSubstituting the values we found:\n\n\\[\n12^2 + 5^2 = c^2\n\\]\n\nCalculating \\(12^2\\) and \\(5^2\\):\n\n\\[\n144 + 25 = c^2\n\\]\n\nAdding these:\n\n\\[\n169 = c^2\n\\]\n\nNow, we take the square root to find \\(c\\):\n\n\\[\nc = \\sqrt{169} = 13\n\\]\n\nThus, the missing side (the hypotenuse) in the right triangle is:\n\n\\[\n\\boxed{13}\n\\]"
          },
          "metadata": {}
        }
      ]
    },
    {
      "cell_type": "code",
      "source": [
        "from openai import OpenAI\n",
        "import json\n",
        "\n",
        "tools = [\n",
        "    {\n",
        "        \"type\": \"function\",\n",
        "        \"function\": {\n",
        "            \"name\": \"fibonacci\",\n",
        "            \"description\": \"Find fibonnaci nth number\",\n",
        "            \"parameters\": {\n",
        "                \"type\": \"object\",\n",
        "                \"properties\": {\n",
        "                    \"number\": {\n",
        "                        \"type\": \"integer\",\n",
        "                        \"description\": \"the nth number of the fibonnaci series\",\n",
        "                    },\n",
        "                },\n",
        "                \"required\": [\"number\"],\n",
        "                \"additionalProperties\": False,\n",
        "            },\n",
        "        }\n",
        "    }\n",
        "]\n",
        "\n",
        "def fibonacci(n):\n",
        "    if n == 0:\n",
        "        return 0\n",
        "\n",
        "    elif n == 1 or n == 2:\n",
        "        return 1\n",
        "\n",
        "    return fibonacci(n-1) + fibonacci(n-2)\n",
        "\n",
        "class LLM:\n",
        "  def __init__(self,\n",
        "               # org_key='org-Fp7J5Ooolp7wFRGiLwY2a0Ii',\n",
        "               api_key=OPENAI_OPENAI_KEY, tools=tools):\n",
        "    self.client = OpenAI(\n",
        "      # organization=org_key,\n",
        "      api_key=api_key,\n",
        "    )\n",
        "    self.tools = tools\n",
        "\n",
        "  def __call__(self, prompt):\n",
        "    response = self.client.chat.completions.create(\n",
        "      model=\"gpt-4o-mini\",\n",
        "      messages=[\n",
        "        {\"role\": \"user\", \"content\": prompt}\n",
        "      ],\n",
        "      tools=self.tools\n",
        "    )\n",
        "    tool_call = response.choices[0].message.tool_calls[0]\n",
        "    print(tool_call)\n",
        "    arguments = json.loads(tool_call.function.arguments)\n",
        "    print(arguments)\n",
        "    answer = fibonacci(arguments[\"number\"])\n",
        "    return answer\n",
        "\n"
      ],
      "metadata": {
        "id": "B1qVM7BysYBs"
      },
      "execution_count": null,
      "outputs": []
    },
    {
      "cell_type": "code",
      "source": [
        "llm = LLM(tools=tools)"
      ],
      "metadata": {
        "id": "lJXQtySstEjv"
      },
      "execution_count": null,
      "outputs": []
    },
    {
      "cell_type": "code",
      "source": [
        "llm(\"Find the 8th fibonnaci number\")"
      ],
      "metadata": {
        "colab": {
          "base_uri": "https://localhost:8080/"
        },
        "id": "IqB6QHcvqd6n",
        "outputId": "7d64c6f5-daf4-48eb-f6eb-89a96100c60e"
      },
      "execution_count": null,
      "outputs": [
        {
          "output_type": "stream",
          "name": "stdout",
          "text": [
            "ChatCompletionMessageToolCall(id='call_Sp3o24sRU4khtfDp1eeW4z4B', function=Function(arguments='{\"number\":8}', name='fibonacci'), type='function')\n",
            "{'number': 8}\n"
          ]
        },
        {
          "output_type": "execute_result",
          "data": {
            "text/plain": [
              "21"
            ]
          },
          "metadata": {},
          "execution_count": 41
        }
      ]
    }
  ]
}