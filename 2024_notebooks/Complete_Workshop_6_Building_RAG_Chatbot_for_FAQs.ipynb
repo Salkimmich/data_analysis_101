{
 "cells": [
  {
   "cell_type": "markdown",
   "id": "0uO9g-nku2ko",
   "metadata": {
    "id": "0uO9g-nku2ko"
   },
   "source": [
    "# Workshop 6: Building a RAG Chatbot for FAQ Responses\n",
    "### InterSystems AI for Software Developers\n",
    "\n",
    "In this workshop, we will build a Retrieval-Augmented Generation (RAG) system for responding to e-commerce FAQs.\n",
    "The goal is to create a simple chatbot that can retrieve relevant FAQ responses based on user queries.\n",
    "By the end of this session, we hope you will have a chatbot deployed on Hugging Face Spaces.\n",
    "\n",
    "We'll load a [dataset of e-commerce FAQs](https://huggingface.co/datasets/NebulaByte/E-Commerce_FAQs) using the Hugging Face `datasets` library.\n",
    "\n",
    "Here’s a quick breakdown of relevant fields:\n",
    "* `question`: Contains the FAQ question text, ideal as input for retrieval.\n",
    "* `answer`: Contains the answer to each FAQ, which we can use as the target output in our response generation.\n",
    "* `category`: Could be useful for context if we want to segment responses by topic or apply specific embeddings for different categories.\n",
    "* `que_ans`: Combination of question and answer, which may serve as a good retrieval field, especially if we want to capture both question structure and response context.\n",
    "\n",
    "### Suggested Pipeline Adaptation\n",
    "1. **Document Store**: Store each `que_ans` field as a document in the vector database. This allows the RAG pipeline to retrieve the most contextually relevant question-answer pairs.\n",
    "2. **Retrieval**: Use `question` as input for retrieving similar FAQs, which will help refine the search to show the best match.\n",
    "3. **Generation**: Generate responses or refine the retrieved answers based on context from the query."
   ]
  },
  {
   "cell_type": "code",
   "execution_count": null,
   "id": "aYy12ly7wTjo",
   "metadata": {
    "id": "aYy12ly7wTjo"
   },
   "outputs": [],
   "source": [
    "# Install necessary libraries\n",
    "!pip install haystack-ai sentence-transformers datasets chroma-haystack"
   ]
  },
  {
   "cell_type": "markdown",
   "id": "iKhMDFt3u2kq",
   "metadata": {
    "id": "iKhMDFt3u2kq"
   },
   "source": [
    "## Part 1: Data Preparation\n",
    "\n",
    "### Steps:\n",
    "- Load the FAQ dataset.\n",
    "- Preprocess it for use in a RAG system.\n",
    "\n",
    "### Expected Output:\n",
    "- `documents`: A list of `Document` objects containing FAQs.\n"
   ]
  },
  {
   "cell_type": "markdown",
   "id": "jKdBfagTu2kr",
   "metadata": {
    "id": "jKdBfagTu2kr"
   },
   "source": [
    "### Preparing Data for RAG\n",
    "Here we’ll structure the data for use in RAG, creating a list of `Document` objects. Each document combines `question` and `answer` for better retrieval context.\n"
   ]
  },
  {
   "cell_type": "code",
   "execution_count": null,
   "id": "ccd1ac1d",
   "metadata": {},
   "outputs": [
    {
     "name": "stderr",
     "output_type": "stream",
     "text": [
      "/Users/user/miniforge3/lib/python3.10/site-packages/haystack/core/errors.py:34: DeprecationWarning: PipelineMaxLoops is deprecated and will be remove in version '2.7.0'; use PipelineMaxComponentRuns instead.\n",
      "  warnings.warn(\n"
     ]
    },
    {
     "name": "stdout",
     "output_type": "stream",
     "text": [
      "Total documents prepared: 50\n"
     ]
    }
   ],
   "source": [
    "import random\n",
    "from typing import List, Dict, Any\n",
    "from datasets import load_dataset\n",
    "from haystack import Document\n",
    "\n",
    "# Load the FAQ dataset\n",
    "dataset = load_dataset(\"NebulaByte/E-Commerce_FAQs\", split='train')\n",
    "dataset = dataset.select(range(50))\n",
    "documents = [Document(content=doc['que_ans']) for doc in dataset]\n",
    "questions = [doc['question'] for doc in dataset]\n",
    "answers = [doc['answer'] for doc in dataset]\n",
    "\n",
    "print(f\"Total documents prepared: {len(documents)}\")"
   ]
  },
  {
   "cell_type": "markdown",
   "id": "7515a4a0",
   "metadata": {},
   "source": [
    "or"
   ]
  },
  {
   "cell_type": "code",
   "execution_count": 3,
   "id": "PnkcV65Ju2ks",
   "metadata": {
    "id": "PnkcV65Ju2ks"
   },
   "outputs": [
    {
     "name": "stdout",
     "output_type": "stream",
     "text": [
      "Total documents prepared: 50\n"
     ]
    }
   ],
   "source": [
    "import random\n",
    "from typing import List, Dict, Any\n",
    "from datasets import load_dataset\n",
    "from haystack import Document\n",
    "\n",
    "# Load and preprocess review dataset\n",
    "def load_and_preprocess(dataset_name) -> (List[Document], List[str], List[str]):\n",
    "    \"\"\" Load and prepare review dataset for RAG system \"\"\"\n",
    "    dataset = load_dataset(dataset_name, split=\"train\")\n",
    "    dataset = dataset.select(range(50))\n",
    "    documents = [Document(content=doc['que_ans']) for doc in dataset]\n",
    "    questions = [doc['question'] for doc in dataset]\n",
    "    answers = [doc['answer'] for doc in dataset]\n",
    "\n",
    "    # Sample 25 examples\n",
    "    # questions, answers, documents = zip(*random.sample(list(zip(questions, answers, documents)), 25))\n",
    "\n",
    "    return documents, questions, answers\n",
    "\n",
    "documents, questions, answers = load_and_preprocess(\"NebulaByte/E-Commerce_FAQs\")\n",
    "print(f\"Total documents prepared: {len(documents)}\")"
   ]
  },
  {
   "cell_type": "markdown",
   "id": "UfX3eL9lu2ks",
   "metadata": {
    "id": "UfX3eL9lu2ks"
   },
   "source": [
    "## Part 2: Document Store and Embedding Setup\n",
    "We will store our FAQ documents in a vector database and set up embeddings for efficient retrieval.\n",
    "\n",
    "### Steps:\n",
    "- Initialize a Chroma document store.\n",
    "- Populate the store with embedded FAQ documents."
   ]
  },
  {
   "cell_type": "code",
   "execution_count": 4,
   "id": "19ac93ec",
   "metadata": {},
   "outputs": [
    {
     "data": {
      "application/vnd.jupyter.widget-view+json": {
       "model_id": "01db49a8f4e742d98e3ee74bfc0792aa",
       "version_major": 2,
       "version_minor": 0
      },
      "text/plain": [
       "Batches:   0%|          | 0/1 [00:00<?, ?it/s]"
      ]
     },
     "metadata": {},
     "output_type": "display_data"
    },
    {
     "data": {
      "application/vnd.jupyter.widget-view+json": {
       "model_id": "3bb556dc0a274996b4c610f2ed262d5a",
       "version_major": 2,
       "version_minor": 0
      },
      "text/plain": [
       "Batches:   0%|          | 0/1 [00:00<?, ?it/s]"
      ]
     },
     "metadata": {},
     "output_type": "display_data"
    },
    {
     "data": {
      "application/vnd.jupyter.widget-view+json": {
       "model_id": "5532b9ab7d8a4cbabc704e2bbbdf5080",
       "version_major": 2,
       "version_minor": 0
      },
      "text/plain": [
       "Batches:   0%|          | 0/1 [00:00<?, ?it/s]"
      ]
     },
     "metadata": {},
     "output_type": "display_data"
    },
    {
     "data": {
      "application/vnd.jupyter.widget-view+json": {
       "model_id": "9c18c9af398c4050b7ed3796b8246398",
       "version_major": 2,
       "version_minor": 0
      },
      "text/plain": [
       "Batches:   0%|          | 0/1 [00:00<?, ?it/s]"
      ]
     },
     "metadata": {},
     "output_type": "display_data"
    },
    {
     "data": {
      "application/vnd.jupyter.widget-view+json": {
       "model_id": "2f4e1760d3a4404794846b8ea8184ba8",
       "version_major": 2,
       "version_minor": 0
      },
      "text/plain": [
       "Batches:   0%|          | 0/1 [00:00<?, ?it/s]"
      ]
     },
     "metadata": {},
     "output_type": "display_data"
    },
    {
     "data": {
      "application/vnd.jupyter.widget-view+json": {
       "model_id": "5f2333b2927f4f628ac9b9ab4c369755",
       "version_major": 2,
       "version_minor": 0
      },
      "text/plain": [
       "Batches:   0%|          | 0/1 [00:00<?, ?it/s]"
      ]
     },
     "metadata": {},
     "output_type": "display_data"
    },
    {
     "data": {
      "application/vnd.jupyter.widget-view+json": {
       "model_id": "f653957d478f49f99885eaad31959299",
       "version_major": 2,
       "version_minor": 0
      },
      "text/plain": [
       "Batches:   0%|          | 0/1 [00:00<?, ?it/s]"
      ]
     },
     "metadata": {},
     "output_type": "display_data"
    },
    {
     "data": {
      "application/vnd.jupyter.widget-view+json": {
       "model_id": "dce2ad4a758b4330b3e186cb57682d15",
       "version_major": 2,
       "version_minor": 0
      },
      "text/plain": [
       "Batches:   0%|          | 0/1 [00:00<?, ?it/s]"
      ]
     },
     "metadata": {},
     "output_type": "display_data"
    },
    {
     "data": {
      "application/vnd.jupyter.widget-view+json": {
       "model_id": "b3ad4aa514874ab3a7cb9aa528004e88",
       "version_major": 2,
       "version_minor": 0
      },
      "text/plain": [
       "Batches:   0%|          | 0/1 [00:00<?, ?it/s]"
      ]
     },
     "metadata": {},
     "output_type": "display_data"
    },
    {
     "data": {
      "application/vnd.jupyter.widget-view+json": {
       "model_id": "6dde7d75728c4ed2ad3d48ea234a53a0",
       "version_major": 2,
       "version_minor": 0
      },
      "text/plain": [
       "Batches:   0%|          | 0/1 [00:00<?, ?it/s]"
      ]
     },
     "metadata": {},
     "output_type": "display_data"
    },
    {
     "data": {
      "application/vnd.jupyter.widget-view+json": {
       "model_id": "0144c5185bbc4bf8aa90ab3cfc8a0db3",
       "version_major": 2,
       "version_minor": 0
      },
      "text/plain": [
       "Batches:   0%|          | 0/1 [00:00<?, ?it/s]"
      ]
     },
     "metadata": {},
     "output_type": "display_data"
    },
    {
     "data": {
      "application/vnd.jupyter.widget-view+json": {
       "model_id": "63f79fba57f6401191ab5becb9ad8dc5",
       "version_major": 2,
       "version_minor": 0
      },
      "text/plain": [
       "Batches:   0%|          | 0/1 [00:00<?, ?it/s]"
      ]
     },
     "metadata": {},
     "output_type": "display_data"
    },
    {
     "data": {
      "application/vnd.jupyter.widget-view+json": {
       "model_id": "b0f0434f9db647e498e5b95ef5c37b9b",
       "version_major": 2,
       "version_minor": 0
      },
      "text/plain": [
       "Batches:   0%|          | 0/1 [00:00<?, ?it/s]"
      ]
     },
     "metadata": {},
     "output_type": "display_data"
    },
    {
     "data": {
      "application/vnd.jupyter.widget-view+json": {
       "model_id": "952e93714c6b49c59ac45071dcac711d",
       "version_major": 2,
       "version_minor": 0
      },
      "text/plain": [
       "Batches:   0%|          | 0/1 [00:00<?, ?it/s]"
      ]
     },
     "metadata": {},
     "output_type": "display_data"
    },
    {
     "data": {
      "application/vnd.jupyter.widget-view+json": {
       "model_id": "af49d41a9df94cdab59f78129133df18",
       "version_major": 2,
       "version_minor": 0
      },
      "text/plain": [
       "Batches:   0%|          | 0/1 [00:00<?, ?it/s]"
      ]
     },
     "metadata": {},
     "output_type": "display_data"
    },
    {
     "data": {
      "application/vnd.jupyter.widget-view+json": {
       "model_id": "40cd8fc030134677b1febb6ec5906b01",
       "version_major": 2,
       "version_minor": 0
      },
      "text/plain": [
       "Batches:   0%|          | 0/1 [00:00<?, ?it/s]"
      ]
     },
     "metadata": {},
     "output_type": "display_data"
    },
    {
     "data": {
      "application/vnd.jupyter.widget-view+json": {
       "model_id": "1b9f90ed853f4ccc97c34fcd1453fa4d",
       "version_major": 2,
       "version_minor": 0
      },
      "text/plain": [
       "Batches:   0%|          | 0/1 [00:00<?, ?it/s]"
      ]
     },
     "metadata": {},
     "output_type": "display_data"
    },
    {
     "data": {
      "application/vnd.jupyter.widget-view+json": {
       "model_id": "4572eb380adc422aab8abe525133e6a4",
       "version_major": 2,
       "version_minor": 0
      },
      "text/plain": [
       "Batches:   0%|          | 0/1 [00:00<?, ?it/s]"
      ]
     },
     "metadata": {},
     "output_type": "display_data"
    },
    {
     "data": {
      "application/vnd.jupyter.widget-view+json": {
       "model_id": "afe285b80e424585880a3a60ea622dec",
       "version_major": 2,
       "version_minor": 0
      },
      "text/plain": [
       "Batches:   0%|          | 0/1 [00:00<?, ?it/s]"
      ]
     },
     "metadata": {},
     "output_type": "display_data"
    },
    {
     "data": {
      "application/vnd.jupyter.widget-view+json": {
       "model_id": "6897aa1912714548908161a1d587613c",
       "version_major": 2,
       "version_minor": 0
      },
      "text/plain": [
       "Batches:   0%|          | 0/1 [00:00<?, ?it/s]"
      ]
     },
     "metadata": {},
     "output_type": "display_data"
    },
    {
     "data": {
      "application/vnd.jupyter.widget-view+json": {
       "model_id": "d3f47677d73c4ad7a71d99a75818d913",
       "version_major": 2,
       "version_minor": 0
      },
      "text/plain": [
       "Batches:   0%|          | 0/1 [00:00<?, ?it/s]"
      ]
     },
     "metadata": {},
     "output_type": "display_data"
    },
    {
     "data": {
      "application/vnd.jupyter.widget-view+json": {
       "model_id": "7262df54a8bb46f78791996bc2d1c60f",
       "version_major": 2,
       "version_minor": 0
      },
      "text/plain": [
       "Batches:   0%|          | 0/1 [00:00<?, ?it/s]"
      ]
     },
     "metadata": {},
     "output_type": "display_data"
    },
    {
     "data": {
      "application/vnd.jupyter.widget-view+json": {
       "model_id": "d8840e30e9974385ba042af3ff456935",
       "version_major": 2,
       "version_minor": 0
      },
      "text/plain": [
       "Batches:   0%|          | 0/1 [00:00<?, ?it/s]"
      ]
     },
     "metadata": {},
     "output_type": "display_data"
    },
    {
     "data": {
      "application/vnd.jupyter.widget-view+json": {
       "model_id": "f21e8ff4d77e4df2833dc138e3411b5f",
       "version_major": 2,
       "version_minor": 0
      },
      "text/plain": [
       "Batches:   0%|          | 0/1 [00:00<?, ?it/s]"
      ]
     },
     "metadata": {},
     "output_type": "display_data"
    },
    {
     "data": {
      "application/vnd.jupyter.widget-view+json": {
       "model_id": "8a90248b9bf542fcb8e5bf48f0a069ba",
       "version_major": 2,
       "version_minor": 0
      },
      "text/plain": [
       "Batches:   0%|          | 0/1 [00:00<?, ?it/s]"
      ]
     },
     "metadata": {},
     "output_type": "display_data"
    },
    {
     "data": {
      "application/vnd.jupyter.widget-view+json": {
       "model_id": "5c69ec9f9c45428a8385ffaef3433a8b",
       "version_major": 2,
       "version_minor": 0
      },
      "text/plain": [
       "Batches:   0%|          | 0/1 [00:00<?, ?it/s]"
      ]
     },
     "metadata": {},
     "output_type": "display_data"
    },
    {
     "data": {
      "application/vnd.jupyter.widget-view+json": {
       "model_id": "8810c300557f469bb1e53daa2bfeb7e0",
       "version_major": 2,
       "version_minor": 0
      },
      "text/plain": [
       "Batches:   0%|          | 0/1 [00:00<?, ?it/s]"
      ]
     },
     "metadata": {},
     "output_type": "display_data"
    },
    {
     "data": {
      "application/vnd.jupyter.widget-view+json": {
       "model_id": "7e693dac292b4f4194c9e8edc9b96a33",
       "version_major": 2,
       "version_minor": 0
      },
      "text/plain": [
       "Batches:   0%|          | 0/1 [00:00<?, ?it/s]"
      ]
     },
     "metadata": {},
     "output_type": "display_data"
    },
    {
     "data": {
      "application/vnd.jupyter.widget-view+json": {
       "model_id": "c7e0003b46ad44318b20e88acafda9c1",
       "version_major": 2,
       "version_minor": 0
      },
      "text/plain": [
       "Batches:   0%|          | 0/1 [00:00<?, ?it/s]"
      ]
     },
     "metadata": {},
     "output_type": "display_data"
    },
    {
     "data": {
      "application/vnd.jupyter.widget-view+json": {
       "model_id": "2290a06ec2ea45ea86fe756b89943543",
       "version_major": 2,
       "version_minor": 0
      },
      "text/plain": [
       "Batches:   0%|          | 0/1 [00:00<?, ?it/s]"
      ]
     },
     "metadata": {},
     "output_type": "display_data"
    },
    {
     "data": {
      "application/vnd.jupyter.widget-view+json": {
       "model_id": "bdc175edcb30460eaeb006866f6f2988",
       "version_major": 2,
       "version_minor": 0
      },
      "text/plain": [
       "Batches:   0%|          | 0/1 [00:00<?, ?it/s]"
      ]
     },
     "metadata": {},
     "output_type": "display_data"
    },
    {
     "data": {
      "application/vnd.jupyter.widget-view+json": {
       "model_id": "829f360e15ce4df98b15b95ed3855b03",
       "version_major": 2,
       "version_minor": 0
      },
      "text/plain": [
       "Batches:   0%|          | 0/1 [00:00<?, ?it/s]"
      ]
     },
     "metadata": {},
     "output_type": "display_data"
    },
    {
     "data": {
      "application/vnd.jupyter.widget-view+json": {
       "model_id": "7a22ed0b30c648c2addb86102083b22d",
       "version_major": 2,
       "version_minor": 0
      },
      "text/plain": [
       "Batches:   0%|          | 0/1 [00:00<?, ?it/s]"
      ]
     },
     "metadata": {},
     "output_type": "display_data"
    },
    {
     "data": {
      "application/vnd.jupyter.widget-view+json": {
       "model_id": "33b8065a476c4f0090d29614bec5c72d",
       "version_major": 2,
       "version_minor": 0
      },
      "text/plain": [
       "Batches:   0%|          | 0/1 [00:00<?, ?it/s]"
      ]
     },
     "metadata": {},
     "output_type": "display_data"
    },
    {
     "data": {
      "application/vnd.jupyter.widget-view+json": {
       "model_id": "c873db2bd5b849388f3eaecca7f809a4",
       "version_major": 2,
       "version_minor": 0
      },
      "text/plain": [
       "Batches:   0%|          | 0/1 [00:00<?, ?it/s]"
      ]
     },
     "metadata": {},
     "output_type": "display_data"
    },
    {
     "data": {
      "application/vnd.jupyter.widget-view+json": {
       "model_id": "2def5ab650724cdfaa68250a03bbf2e6",
       "version_major": 2,
       "version_minor": 0
      },
      "text/plain": [
       "Batches:   0%|          | 0/1 [00:00<?, ?it/s]"
      ]
     },
     "metadata": {},
     "output_type": "display_data"
    },
    {
     "data": {
      "application/vnd.jupyter.widget-view+json": {
       "model_id": "39c6bad63dd64b01adfd9b6a3898aeff",
       "version_major": 2,
       "version_minor": 0
      },
      "text/plain": [
       "Batches:   0%|          | 0/1 [00:00<?, ?it/s]"
      ]
     },
     "metadata": {},
     "output_type": "display_data"
    },
    {
     "data": {
      "application/vnd.jupyter.widget-view+json": {
       "model_id": "181f8c95419c4431b9a407d784b49b08",
       "version_major": 2,
       "version_minor": 0
      },
      "text/plain": [
       "Batches:   0%|          | 0/1 [00:00<?, ?it/s]"
      ]
     },
     "metadata": {},
     "output_type": "display_data"
    },
    {
     "data": {
      "application/vnd.jupyter.widget-view+json": {
       "model_id": "726d89b06dfa408eb81b66675269e840",
       "version_major": 2,
       "version_minor": 0
      },
      "text/plain": [
       "Batches:   0%|          | 0/1 [00:00<?, ?it/s]"
      ]
     },
     "metadata": {},
     "output_type": "display_data"
    },
    {
     "data": {
      "application/vnd.jupyter.widget-view+json": {
       "model_id": "be3d28bfa372492ebd6648cad3164c0f",
       "version_major": 2,
       "version_minor": 0
      },
      "text/plain": [
       "Batches:   0%|          | 0/1 [00:00<?, ?it/s]"
      ]
     },
     "metadata": {},
     "output_type": "display_data"
    },
    {
     "data": {
      "application/vnd.jupyter.widget-view+json": {
       "model_id": "0779d534ba9c49c1b41abe301b3d18b2",
       "version_major": 2,
       "version_minor": 0
      },
      "text/plain": [
       "Batches:   0%|          | 0/1 [00:00<?, ?it/s]"
      ]
     },
     "metadata": {},
     "output_type": "display_data"
    },
    {
     "data": {
      "application/vnd.jupyter.widget-view+json": {
       "model_id": "ba850b33a6eb4dd78ef0610d7fa4d765",
       "version_major": 2,
       "version_minor": 0
      },
      "text/plain": [
       "Batches:   0%|          | 0/1 [00:00<?, ?it/s]"
      ]
     },
     "metadata": {},
     "output_type": "display_data"
    },
    {
     "data": {
      "application/vnd.jupyter.widget-view+json": {
       "model_id": "462135f3c34748ce837314fa7ad6744d",
       "version_major": 2,
       "version_minor": 0
      },
      "text/plain": [
       "Batches:   0%|          | 0/1 [00:00<?, ?it/s]"
      ]
     },
     "metadata": {},
     "output_type": "display_data"
    },
    {
     "data": {
      "application/vnd.jupyter.widget-view+json": {
       "model_id": "7838429f2e63406a948cb2dad9c74b4c",
       "version_major": 2,
       "version_minor": 0
      },
      "text/plain": [
       "Batches:   0%|          | 0/1 [00:00<?, ?it/s]"
      ]
     },
     "metadata": {},
     "output_type": "display_data"
    },
    {
     "data": {
      "application/vnd.jupyter.widget-view+json": {
       "model_id": "f7ada1a2ec2743d98e67e9397f7a0664",
       "version_major": 2,
       "version_minor": 0
      },
      "text/plain": [
       "Batches:   0%|          | 0/1 [00:00<?, ?it/s]"
      ]
     },
     "metadata": {},
     "output_type": "display_data"
    },
    {
     "data": {
      "application/vnd.jupyter.widget-view+json": {
       "model_id": "af325caa89634aa4a315e95ecaf8ef45",
       "version_major": 2,
       "version_minor": 0
      },
      "text/plain": [
       "Batches:   0%|          | 0/1 [00:00<?, ?it/s]"
      ]
     },
     "metadata": {},
     "output_type": "display_data"
    },
    {
     "data": {
      "application/vnd.jupyter.widget-view+json": {
       "model_id": "a46dad9dfa8d46d59c6a39d5e7b58d52",
       "version_major": 2,
       "version_minor": 0
      },
      "text/plain": [
       "Batches:   0%|          | 0/1 [00:00<?, ?it/s]"
      ]
     },
     "metadata": {},
     "output_type": "display_data"
    },
    {
     "data": {
      "application/vnd.jupyter.widget-view+json": {
       "model_id": "4184be7401774a0c83d5a5e33ade0439",
       "version_major": 2,
       "version_minor": 0
      },
      "text/plain": [
       "Batches:   0%|          | 0/1 [00:00<?, ?it/s]"
      ]
     },
     "metadata": {},
     "output_type": "display_data"
    },
    {
     "data": {
      "application/vnd.jupyter.widget-view+json": {
       "model_id": "a000ded1270641a8b20bd7db76016b8d",
       "version_major": 2,
       "version_minor": 0
      },
      "text/plain": [
       "Batches:   0%|          | 0/1 [00:00<?, ?it/s]"
      ]
     },
     "metadata": {},
     "output_type": "display_data"
    },
    {
     "data": {
      "application/vnd.jupyter.widget-view+json": {
       "model_id": "a77b5c4989224d0384d237e6fa67d0ea",
       "version_major": 2,
       "version_minor": 0
      },
      "text/plain": [
       "Batches:   0%|          | 0/1 [00:00<?, ?it/s]"
      ]
     },
     "metadata": {},
     "output_type": "display_data"
    },
    {
     "name": "stderr",
     "output_type": "stream",
     "text": [
      "Add of existing embedding ID: 4429840492d1f422bd962143e22a3f2012ba06412e706d10916e33290416163e\n",
      "Add of existing embedding ID: 153da4e5ec2a074e4fcf47da8d7636ae93f3f5e4758ac0ae3ed239df343c811b\n",
      "Add of existing embedding ID: ec5305bb64a080ef53de78daeb1d22426c7e666069c1c0bc712eef9df02b7a33\n",
      "Add of existing embedding ID: 92f6259a15806601882eb0d1921ade93ab323f998fb0ccf5592d81ea996f4dbb\n",
      "Add of existing embedding ID: a8f92f52253b61581ce092ff0a48772ca34e3253c937d56b4605b19990eb51a0\n",
      "Add of existing embedding ID: e1b544740b1ce2cf31f6bb205aa9a0b979705baeaa11bb00ec76c9c9cf0ecace\n",
      "Add of existing embedding ID: 2a529cbcf42598a62a2df58e968d016c5d63ede8e0cfa2ce105cfff4ab97879b\n",
      "Add of existing embedding ID: 33fc3bd460ce8a7fcbcef3ccd51db086608f3b82d36b89e2d59263fb1a5ac6d6\n",
      "Add of existing embedding ID: 6dee948c0d9ede0d48f07e45298816178ae459947e405d6304caac8de0d8f978\n",
      "Add of existing embedding ID: 532c7211fe06a12473facb0717dfc48b95429fcaa1883d81b59627a9466fe7d7\n",
      "Add of existing embedding ID: e403064f92424cfb227d860122e06cad2ac36df4c2d7d630b540aa7dbe3b11ce\n",
      "Add of existing embedding ID: ad413779bd27965da25ae81f6f6ee15a327239136c4a67881192d1875812fa41\n",
      "Add of existing embedding ID: f8034da546bd927cb1a9a7877d9592d57e4bebfa5bcdeca12e8e2345e0baffb2\n",
      "Add of existing embedding ID: 6f29391f5d1fdedd985726a4b6022c7d93cf4dcad4dca4b8f85a0e863fce0a33\n",
      "Add of existing embedding ID: a6cbe2a4efdd3f3e41d6d235b2e30d83e2d273eabb518ad97aaa3fd6bb67bcda\n",
      "Add of existing embedding ID: 842e433b4e73c1fea34181d9b9756b358e1f78912f61aa0958b88f4236cda3af\n",
      "Add of existing embedding ID: 39b6439d9dec3d4ebd73d6f6e62a077efb46af3a46ad4025d20e513b8033e522\n",
      "Add of existing embedding ID: 1134db7d1d25652cccd05b2426983614bcebe7ab22b533b3659878f96a13b8fa\n",
      "Add of existing embedding ID: 76af59ca364298c4e48479a19dae4d069bab2a629e98ab68a1e103b0b7bf3c18\n",
      "Add of existing embedding ID: fa886790c106279e0198a32b7d62f01cb11f3f5662ab4d7a44d41cd9b4b75ae1\n",
      "Add of existing embedding ID: 7cf1899df5aa0a665dda66d6798cca3174c3f0231750e50d9f9bb8fffb42014a\n",
      "Add of existing embedding ID: 3440a0ef5a49cd6d4347b2b3c8000fc98e9bbd3a525d01959bafb4f9cb00e15d\n",
      "Add of existing embedding ID: 0926da3665a4f572801f3eb1ad09b6583a7b78cef7862a04cac5ee1677b13057\n",
      "Add of existing embedding ID: 52ec1c932fbc1d44bd156f69212f2f52a8b6e16852bf1dcc376b1dfc8836269d\n",
      "Add of existing embedding ID: 171609df4c3c0df237a8f4fa1d2a9cb929f9e1e94834cc45606e01c1e6b4b0ac\n",
      "Add of existing embedding ID: 31f043bc5550f6a3111167637d9867c0ffed29288c0b9dc1ec1bfcfe6c784679\n",
      "Add of existing embedding ID: fa896a7737a544a2fa33edf9d098c6efed7c40b86f8a1287b45db6d39928c3f0\n",
      "Add of existing embedding ID: bc4677bfdf2b8327c733ac2d5169822d23acc50ebee5b9e989d661ec5793fb02\n",
      "Add of existing embedding ID: 991ac2f93cac1470878eb22bf6d5848ce13fb4da292bd2c3297f5eff991a645a\n",
      "Add of existing embedding ID: 3e1a6123a7a38f64e43da28517f5da6ce296e0ae7e067217d96330447bb92cf0\n",
      "Add of existing embedding ID: 6e78a9def86831b49ddcb007113239e59363e0680d1197a48f41463a8bfb3547\n",
      "Add of existing embedding ID: fac2e2ce9b903a95a1fc70bda8e05f8cdba6dce721622a61db9a1c6a5ae837ff\n",
      "Add of existing embedding ID: 1abed788c7545e9e3be6c4d924312debc7bc56cc8d86f10ef532f61463b326a9\n",
      "Add of existing embedding ID: 680f749f6c375b539fb2c7ab1510565c24bacd6c862a67caa31e29b760a47341\n",
      "Add of existing embedding ID: ccd1f96073945f3ead4b067569b532f5c7a26faf5f6d32739c4015f7178dcfba\n",
      "Add of existing embedding ID: ad46dbc7e16ac2fd209fdc5cac2f129f32e35f5522bd11222371644029998027\n",
      "Add of existing embedding ID: cf099280cd9717ed3416c03eb6ba878608a802afdd77ce06361dfbd3f6aaa425\n",
      "Add of existing embedding ID: f3ef095b495df3293b1684fb8fb2ba4664ec609196c8fbffdaabca2c8a2e46e7\n",
      "Add of existing embedding ID: c498bd818483a4f25adb287785d652a34b8fe52f657aad4d01c396f125f4c0c7\n",
      "Add of existing embedding ID: 877546c92bd72d50793db4300caf233cdd0079718286c5062eb8b1d24e5c96cc\n",
      "Add of existing embedding ID: d3772b46c48cdaca5b8b3757426b42476b67bfab519ba467b9360a8ac26a5ea2\n",
      "Add of existing embedding ID: af355688a06cd7e5e9b5350ae69d248eeab8be8ff39d9f0b0774e1329ed0e253\n",
      "Add of existing embedding ID: 32060f7ade5ad3b8f981f765437eb9f6997d13e188e865b6687fadf5b500887c\n",
      "Add of existing embedding ID: 9e59906cbc067c0de30ce09f0a76fc68e90715e848c3adb4270dba694f9798a4\n",
      "Add of existing embedding ID: 0943761c702df6f9ca0ceedb4fa661658b1324c741b8b7e2b0dce49c5b128041\n",
      "Add of existing embedding ID: 77c309da5ee6b51ced3c1925d40a1d43b9fa31f2c421f68c9caf9289b0f64907\n",
      "Add of existing embedding ID: b12cfc4c50fbef175e6adc397da702dcfa674633ab1eab9e0b6eb706e10c9ecb\n",
      "Add of existing embedding ID: 430f57914a2f14360eb59a7cd3c05664b2c391449a63cb3a25a31339a24ee832\n",
      "Add of existing embedding ID: 086fa65eaf0a7d558b4c42280ecb0c692e28f30ab068d7aa426a59071396c066\n",
      "Add of existing embedding ID: d44f3927d26f21197cfddb44b07e1c0537ec5fde5f873f4374d728dc029f7927\n",
      "Add of existing embedding ID: 4429840492d1f422bd962143e22a3f2012ba06412e706d10916e33290416163e\n",
      "Add of existing embedding ID: 153da4e5ec2a074e4fcf47da8d7636ae93f3f5e4758ac0ae3ed239df343c811b\n",
      "Add of existing embedding ID: ec5305bb64a080ef53de78daeb1d22426c7e666069c1c0bc712eef9df02b7a33\n",
      "Add of existing embedding ID: 92f6259a15806601882eb0d1921ade93ab323f998fb0ccf5592d81ea996f4dbb\n",
      "Add of existing embedding ID: a8f92f52253b61581ce092ff0a48772ca34e3253c937d56b4605b19990eb51a0\n",
      "Add of existing embedding ID: e1b544740b1ce2cf31f6bb205aa9a0b979705baeaa11bb00ec76c9c9cf0ecace\n",
      "Add of existing embedding ID: 2a529cbcf42598a62a2df58e968d016c5d63ede8e0cfa2ce105cfff4ab97879b\n",
      "Add of existing embedding ID: 33fc3bd460ce8a7fcbcef3ccd51db086608f3b82d36b89e2d59263fb1a5ac6d6\n",
      "Add of existing embedding ID: 6dee948c0d9ede0d48f07e45298816178ae459947e405d6304caac8de0d8f978\n",
      "Add of existing embedding ID: 532c7211fe06a12473facb0717dfc48b95429fcaa1883d81b59627a9466fe7d7\n",
      "Add of existing embedding ID: e403064f92424cfb227d860122e06cad2ac36df4c2d7d630b540aa7dbe3b11ce\n",
      "Add of existing embedding ID: ad413779bd27965da25ae81f6f6ee15a327239136c4a67881192d1875812fa41\n",
      "Add of existing embedding ID: f8034da546bd927cb1a9a7877d9592d57e4bebfa5bcdeca12e8e2345e0baffb2\n",
      "Add of existing embedding ID: 6f29391f5d1fdedd985726a4b6022c7d93cf4dcad4dca4b8f85a0e863fce0a33\n",
      "Add of existing embedding ID: a6cbe2a4efdd3f3e41d6d235b2e30d83e2d273eabb518ad97aaa3fd6bb67bcda\n",
      "Add of existing embedding ID: 842e433b4e73c1fea34181d9b9756b358e1f78912f61aa0958b88f4236cda3af\n",
      "Add of existing embedding ID: 39b6439d9dec3d4ebd73d6f6e62a077efb46af3a46ad4025d20e513b8033e522\n",
      "Add of existing embedding ID: 1134db7d1d25652cccd05b2426983614bcebe7ab22b533b3659878f96a13b8fa\n",
      "Add of existing embedding ID: 76af59ca364298c4e48479a19dae4d069bab2a629e98ab68a1e103b0b7bf3c18\n",
      "Add of existing embedding ID: fa886790c106279e0198a32b7d62f01cb11f3f5662ab4d7a44d41cd9b4b75ae1\n",
      "Add of existing embedding ID: 7cf1899df5aa0a665dda66d6798cca3174c3f0231750e50d9f9bb8fffb42014a\n",
      "Add of existing embedding ID: 3440a0ef5a49cd6d4347b2b3c8000fc98e9bbd3a525d01959bafb4f9cb00e15d\n",
      "Add of existing embedding ID: 0926da3665a4f572801f3eb1ad09b6583a7b78cef7862a04cac5ee1677b13057\n",
      "Add of existing embedding ID: 52ec1c932fbc1d44bd156f69212f2f52a8b6e16852bf1dcc376b1dfc8836269d\n",
      "Add of existing embedding ID: 171609df4c3c0df237a8f4fa1d2a9cb929f9e1e94834cc45606e01c1e6b4b0ac\n",
      "Add of existing embedding ID: 31f043bc5550f6a3111167637d9867c0ffed29288c0b9dc1ec1bfcfe6c784679\n",
      "Add of existing embedding ID: fa896a7737a544a2fa33edf9d098c6efed7c40b86f8a1287b45db6d39928c3f0\n",
      "Add of existing embedding ID: bc4677bfdf2b8327c733ac2d5169822d23acc50ebee5b9e989d661ec5793fb02\n",
      "Add of existing embedding ID: 991ac2f93cac1470878eb22bf6d5848ce13fb4da292bd2c3297f5eff991a645a\n",
      "Add of existing embedding ID: 3e1a6123a7a38f64e43da28517f5da6ce296e0ae7e067217d96330447bb92cf0\n",
      "Add of existing embedding ID: 6e78a9def86831b49ddcb007113239e59363e0680d1197a48f41463a8bfb3547\n",
      "Add of existing embedding ID: fac2e2ce9b903a95a1fc70bda8e05f8cdba6dce721622a61db9a1c6a5ae837ff\n",
      "Add of existing embedding ID: 1abed788c7545e9e3be6c4d924312debc7bc56cc8d86f10ef532f61463b326a9\n",
      "Add of existing embedding ID: 680f749f6c375b539fb2c7ab1510565c24bacd6c862a67caa31e29b760a47341\n",
      "Add of existing embedding ID: ccd1f96073945f3ead4b067569b532f5c7a26faf5f6d32739c4015f7178dcfba\n",
      "Add of existing embedding ID: ad46dbc7e16ac2fd209fdc5cac2f129f32e35f5522bd11222371644029998027\n",
      "Add of existing embedding ID: cf099280cd9717ed3416c03eb6ba878608a802afdd77ce06361dfbd3f6aaa425\n",
      "Add of existing embedding ID: f3ef095b495df3293b1684fb8fb2ba4664ec609196c8fbffdaabca2c8a2e46e7\n",
      "Add of existing embedding ID: c498bd818483a4f25adb287785d652a34b8fe52f657aad4d01c396f125f4c0c7\n",
      "Add of existing embedding ID: 877546c92bd72d50793db4300caf233cdd0079718286c5062eb8b1d24e5c96cc\n",
      "Add of existing embedding ID: d3772b46c48cdaca5b8b3757426b42476b67bfab519ba467b9360a8ac26a5ea2\n",
      "Add of existing embedding ID: af355688a06cd7e5e9b5350ae69d248eeab8be8ff39d9f0b0774e1329ed0e253\n",
      "Add of existing embedding ID: 32060f7ade5ad3b8f981f765437eb9f6997d13e188e865b6687fadf5b500887c\n",
      "Add of existing embedding ID: 9e59906cbc067c0de30ce09f0a76fc68e90715e848c3adb4270dba694f9798a4\n",
      "Add of existing embedding ID: 0943761c702df6f9ca0ceedb4fa661658b1324c741b8b7e2b0dce49c5b128041\n",
      "Add of existing embedding ID: 77c309da5ee6b51ced3c1925d40a1d43b9fa31f2c421f68c9caf9289b0f64907\n",
      "Add of existing embedding ID: b12cfc4c50fbef175e6adc397da702dcfa674633ab1eab9e0b6eb706e10c9ecb\n",
      "Add of existing embedding ID: 430f57914a2f14360eb59a7cd3c05664b2c391449a63cb3a25a31339a24ee832\n",
      "Add of existing embedding ID: 086fa65eaf0a7d558b4c42280ecb0c692e28f30ab068d7aa426a59071396c066\n",
      "Add of existing embedding ID: d44f3927d26f21197cfddb44b07e1c0537ec5fde5f873f4374d728dc029f7927\n",
      "Add of existing embedding ID: 4429840492d1f422bd962143e22a3f2012ba06412e706d10916e33290416163e\n",
      "Add of existing embedding ID: 153da4e5ec2a074e4fcf47da8d7636ae93f3f5e4758ac0ae3ed239df343c811b\n",
      "Add of existing embedding ID: ec5305bb64a080ef53de78daeb1d22426c7e666069c1c0bc712eef9df02b7a33\n",
      "Add of existing embedding ID: 92f6259a15806601882eb0d1921ade93ab323f998fb0ccf5592d81ea996f4dbb\n",
      "Add of existing embedding ID: a8f92f52253b61581ce092ff0a48772ca34e3253c937d56b4605b19990eb51a0\n",
      "Add of existing embedding ID: e1b544740b1ce2cf31f6bb205aa9a0b979705baeaa11bb00ec76c9c9cf0ecace\n",
      "Add of existing embedding ID: 2a529cbcf42598a62a2df58e968d016c5d63ede8e0cfa2ce105cfff4ab97879b\n",
      "Add of existing embedding ID: 33fc3bd460ce8a7fcbcef3ccd51db086608f3b82d36b89e2d59263fb1a5ac6d6\n",
      "Add of existing embedding ID: 6dee948c0d9ede0d48f07e45298816178ae459947e405d6304caac8de0d8f978\n",
      "Add of existing embedding ID: 532c7211fe06a12473facb0717dfc48b95429fcaa1883d81b59627a9466fe7d7\n",
      "Add of existing embedding ID: e403064f92424cfb227d860122e06cad2ac36df4c2d7d630b540aa7dbe3b11ce\n",
      "Add of existing embedding ID: ad413779bd27965da25ae81f6f6ee15a327239136c4a67881192d1875812fa41\n",
      "Add of existing embedding ID: f8034da546bd927cb1a9a7877d9592d57e4bebfa5bcdeca12e8e2345e0baffb2\n",
      "Add of existing embedding ID: 6f29391f5d1fdedd985726a4b6022c7d93cf4dcad4dca4b8f85a0e863fce0a33\n",
      "Add of existing embedding ID: a6cbe2a4efdd3f3e41d6d235b2e30d83e2d273eabb518ad97aaa3fd6bb67bcda\n",
      "Add of existing embedding ID: 842e433b4e73c1fea34181d9b9756b358e1f78912f61aa0958b88f4236cda3af\n",
      "Add of existing embedding ID: 39b6439d9dec3d4ebd73d6f6e62a077efb46af3a46ad4025d20e513b8033e522\n",
      "Add of existing embedding ID: 1134db7d1d25652cccd05b2426983614bcebe7ab22b533b3659878f96a13b8fa\n",
      "Add of existing embedding ID: 76af59ca364298c4e48479a19dae4d069bab2a629e98ab68a1e103b0b7bf3c18\n",
      "Add of existing embedding ID: fa886790c106279e0198a32b7d62f01cb11f3f5662ab4d7a44d41cd9b4b75ae1\n",
      "Add of existing embedding ID: 7cf1899df5aa0a665dda66d6798cca3174c3f0231750e50d9f9bb8fffb42014a\n",
      "Add of existing embedding ID: 3440a0ef5a49cd6d4347b2b3c8000fc98e9bbd3a525d01959bafb4f9cb00e15d\n",
      "Add of existing embedding ID: 0926da3665a4f572801f3eb1ad09b6583a7b78cef7862a04cac5ee1677b13057\n",
      "Add of existing embedding ID: 52ec1c932fbc1d44bd156f69212f2f52a8b6e16852bf1dcc376b1dfc8836269d\n",
      "Add of existing embedding ID: 171609df4c3c0df237a8f4fa1d2a9cb929f9e1e94834cc45606e01c1e6b4b0ac\n",
      "Add of existing embedding ID: 31f043bc5550f6a3111167637d9867c0ffed29288c0b9dc1ec1bfcfe6c784679\n",
      "Add of existing embedding ID: fa896a7737a544a2fa33edf9d098c6efed7c40b86f8a1287b45db6d39928c3f0\n",
      "Add of existing embedding ID: bc4677bfdf2b8327c733ac2d5169822d23acc50ebee5b9e989d661ec5793fb02\n",
      "Add of existing embedding ID: 991ac2f93cac1470878eb22bf6d5848ce13fb4da292bd2c3297f5eff991a645a\n",
      "Add of existing embedding ID: 3e1a6123a7a38f64e43da28517f5da6ce296e0ae7e067217d96330447bb92cf0\n",
      "Add of existing embedding ID: 6e78a9def86831b49ddcb007113239e59363e0680d1197a48f41463a8bfb3547\n",
      "Add of existing embedding ID: fac2e2ce9b903a95a1fc70bda8e05f8cdba6dce721622a61db9a1c6a5ae837ff\n",
      "Add of existing embedding ID: 1abed788c7545e9e3be6c4d924312debc7bc56cc8d86f10ef532f61463b326a9\n",
      "Add of existing embedding ID: 680f749f6c375b539fb2c7ab1510565c24bacd6c862a67caa31e29b760a47341\n",
      "Add of existing embedding ID: ccd1f96073945f3ead4b067569b532f5c7a26faf5f6d32739c4015f7178dcfba\n",
      "Add of existing embedding ID: ad46dbc7e16ac2fd209fdc5cac2f129f32e35f5522bd11222371644029998027\n",
      "Add of existing embedding ID: cf099280cd9717ed3416c03eb6ba878608a802afdd77ce06361dfbd3f6aaa425\n",
      "Add of existing embedding ID: f3ef095b495df3293b1684fb8fb2ba4664ec609196c8fbffdaabca2c8a2e46e7\n",
      "Add of existing embedding ID: c498bd818483a4f25adb287785d652a34b8fe52f657aad4d01c396f125f4c0c7\n",
      "Add of existing embedding ID: 877546c92bd72d50793db4300caf233cdd0079718286c5062eb8b1d24e5c96cc\n",
      "Add of existing embedding ID: d3772b46c48cdaca5b8b3757426b42476b67bfab519ba467b9360a8ac26a5ea2\n",
      "Add of existing embedding ID: af355688a06cd7e5e9b5350ae69d248eeab8be8ff39d9f0b0774e1329ed0e253\n",
      "Add of existing embedding ID: 32060f7ade5ad3b8f981f765437eb9f6997d13e188e865b6687fadf5b500887c\n",
      "Add of existing embedding ID: 9e59906cbc067c0de30ce09f0a76fc68e90715e848c3adb4270dba694f9798a4\n",
      "Add of existing embedding ID: 0943761c702df6f9ca0ceedb4fa661658b1324c741b8b7e2b0dce49c5b128041\n",
      "Add of existing embedding ID: 77c309da5ee6b51ced3c1925d40a1d43b9fa31f2c421f68c9caf9289b0f64907\n",
      "Add of existing embedding ID: b12cfc4c50fbef175e6adc397da702dcfa674633ab1eab9e0b6eb706e10c9ecb\n",
      "Add of existing embedding ID: 430f57914a2f14360eb59a7cd3c05664b2c391449a63cb3a25a31339a24ee832\n",
      "Add of existing embedding ID: 086fa65eaf0a7d558b4c42280ecb0c692e28f30ab068d7aa426a59071396c066\n",
      "Add of existing embedding ID: d44f3927d26f21197cfddb44b07e1c0537ec5fde5f873f4374d728dc029f7927\n",
      "Add of existing embedding ID: 4429840492d1f422bd962143e22a3f2012ba06412e706d10916e33290416163e\n",
      "Add of existing embedding ID: 153da4e5ec2a074e4fcf47da8d7636ae93f3f5e4758ac0ae3ed239df343c811b\n",
      "Add of existing embedding ID: ec5305bb64a080ef53de78daeb1d22426c7e666069c1c0bc712eef9df02b7a33\n",
      "Add of existing embedding ID: 92f6259a15806601882eb0d1921ade93ab323f998fb0ccf5592d81ea996f4dbb\n",
      "Add of existing embedding ID: a8f92f52253b61581ce092ff0a48772ca34e3253c937d56b4605b19990eb51a0\n",
      "Add of existing embedding ID: e1b544740b1ce2cf31f6bb205aa9a0b979705baeaa11bb00ec76c9c9cf0ecace\n",
      "Add of existing embedding ID: 2a529cbcf42598a62a2df58e968d016c5d63ede8e0cfa2ce105cfff4ab97879b\n",
      "Add of existing embedding ID: 33fc3bd460ce8a7fcbcef3ccd51db086608f3b82d36b89e2d59263fb1a5ac6d6\n",
      "Add of existing embedding ID: 6dee948c0d9ede0d48f07e45298816178ae459947e405d6304caac8de0d8f978\n",
      "Add of existing embedding ID: 532c7211fe06a12473facb0717dfc48b95429fcaa1883d81b59627a9466fe7d7\n",
      "Add of existing embedding ID: e403064f92424cfb227d860122e06cad2ac36df4c2d7d630b540aa7dbe3b11ce\n",
      "Add of existing embedding ID: ad413779bd27965da25ae81f6f6ee15a327239136c4a67881192d1875812fa41\n",
      "Add of existing embedding ID: f8034da546bd927cb1a9a7877d9592d57e4bebfa5bcdeca12e8e2345e0baffb2\n",
      "Add of existing embedding ID: 6f29391f5d1fdedd985726a4b6022c7d93cf4dcad4dca4b8f85a0e863fce0a33\n",
      "Add of existing embedding ID: a6cbe2a4efdd3f3e41d6d235b2e30d83e2d273eabb518ad97aaa3fd6bb67bcda\n",
      "Add of existing embedding ID: 842e433b4e73c1fea34181d9b9756b358e1f78912f61aa0958b88f4236cda3af\n",
      "Add of existing embedding ID: 39b6439d9dec3d4ebd73d6f6e62a077efb46af3a46ad4025d20e513b8033e522\n",
      "Add of existing embedding ID: 1134db7d1d25652cccd05b2426983614bcebe7ab22b533b3659878f96a13b8fa\n",
      "Add of existing embedding ID: 76af59ca364298c4e48479a19dae4d069bab2a629e98ab68a1e103b0b7bf3c18\n",
      "Add of existing embedding ID: fa886790c106279e0198a32b7d62f01cb11f3f5662ab4d7a44d41cd9b4b75ae1\n",
      "Add of existing embedding ID: 7cf1899df5aa0a665dda66d6798cca3174c3f0231750e50d9f9bb8fffb42014a\n",
      "Add of existing embedding ID: 3440a0ef5a49cd6d4347b2b3c8000fc98e9bbd3a525d01959bafb4f9cb00e15d\n",
      "Add of existing embedding ID: 0926da3665a4f572801f3eb1ad09b6583a7b78cef7862a04cac5ee1677b13057\n",
      "Add of existing embedding ID: 52ec1c932fbc1d44bd156f69212f2f52a8b6e16852bf1dcc376b1dfc8836269d\n",
      "Add of existing embedding ID: 171609df4c3c0df237a8f4fa1d2a9cb929f9e1e94834cc45606e01c1e6b4b0ac\n",
      "Add of existing embedding ID: 31f043bc5550f6a3111167637d9867c0ffed29288c0b9dc1ec1bfcfe6c784679\n",
      "Add of existing embedding ID: fa896a7737a544a2fa33edf9d098c6efed7c40b86f8a1287b45db6d39928c3f0\n",
      "Add of existing embedding ID: bc4677bfdf2b8327c733ac2d5169822d23acc50ebee5b9e989d661ec5793fb02\n",
      "Add of existing embedding ID: 991ac2f93cac1470878eb22bf6d5848ce13fb4da292bd2c3297f5eff991a645a\n",
      "Add of existing embedding ID: 3e1a6123a7a38f64e43da28517f5da6ce296e0ae7e067217d96330447bb92cf0\n",
      "Add of existing embedding ID: 6e78a9def86831b49ddcb007113239e59363e0680d1197a48f41463a8bfb3547\n",
      "Add of existing embedding ID: fac2e2ce9b903a95a1fc70bda8e05f8cdba6dce721622a61db9a1c6a5ae837ff\n",
      "Add of existing embedding ID: 1abed788c7545e9e3be6c4d924312debc7bc56cc8d86f10ef532f61463b326a9\n",
      "Add of existing embedding ID: 680f749f6c375b539fb2c7ab1510565c24bacd6c862a67caa31e29b760a47341\n",
      "Add of existing embedding ID: ccd1f96073945f3ead4b067569b532f5c7a26faf5f6d32739c4015f7178dcfba\n",
      "Add of existing embedding ID: ad46dbc7e16ac2fd209fdc5cac2f129f32e35f5522bd11222371644029998027\n",
      "Add of existing embedding ID: cf099280cd9717ed3416c03eb6ba878608a802afdd77ce06361dfbd3f6aaa425\n",
      "Add of existing embedding ID: f3ef095b495df3293b1684fb8fb2ba4664ec609196c8fbffdaabca2c8a2e46e7\n",
      "Add of existing embedding ID: c498bd818483a4f25adb287785d652a34b8fe52f657aad4d01c396f125f4c0c7\n",
      "Add of existing embedding ID: 877546c92bd72d50793db4300caf233cdd0079718286c5062eb8b1d24e5c96cc\n",
      "Add of existing embedding ID: d3772b46c48cdaca5b8b3757426b42476b67bfab519ba467b9360a8ac26a5ea2\n",
      "Add of existing embedding ID: af355688a06cd7e5e9b5350ae69d248eeab8be8ff39d9f0b0774e1329ed0e253\n",
      "Add of existing embedding ID: 32060f7ade5ad3b8f981f765437eb9f6997d13e188e865b6687fadf5b500887c\n",
      "Add of existing embedding ID: 9e59906cbc067c0de30ce09f0a76fc68e90715e848c3adb4270dba694f9798a4\n",
      "Add of existing embedding ID: 0943761c702df6f9ca0ceedb4fa661658b1324c741b8b7e2b0dce49c5b128041\n",
      "Add of existing embedding ID: 77c309da5ee6b51ced3c1925d40a1d43b9fa31f2c421f68c9caf9289b0f64907\n",
      "Add of existing embedding ID: b12cfc4c50fbef175e6adc397da702dcfa674633ab1eab9e0b6eb706e10c9ecb\n",
      "Add of existing embedding ID: 430f57914a2f14360eb59a7cd3c05664b2c391449a63cb3a25a31339a24ee832\n",
      "Add of existing embedding ID: 086fa65eaf0a7d558b4c42280ecb0c692e28f30ab068d7aa426a59071396c066\n",
      "Add of existing embedding ID: d44f3927d26f21197cfddb44b07e1c0537ec5fde5f873f4374d728dc029f7927\n",
      "Insert of existing embedding ID: 4429840492d1f422bd962143e22a3f2012ba06412e706d10916e33290416163e\n",
      "Add of existing embedding ID: 4429840492d1f422bd962143e22a3f2012ba06412e706d10916e33290416163e\n",
      "Insert of existing embedding ID: 153da4e5ec2a074e4fcf47da8d7636ae93f3f5e4758ac0ae3ed239df343c811b\n",
      "Add of existing embedding ID: 153da4e5ec2a074e4fcf47da8d7636ae93f3f5e4758ac0ae3ed239df343c811b\n",
      "Insert of existing embedding ID: ec5305bb64a080ef53de78daeb1d22426c7e666069c1c0bc712eef9df02b7a33\n",
      "Add of existing embedding ID: ec5305bb64a080ef53de78daeb1d22426c7e666069c1c0bc712eef9df02b7a33\n",
      "Insert of existing embedding ID: 92f6259a15806601882eb0d1921ade93ab323f998fb0ccf5592d81ea996f4dbb\n",
      "Add of existing embedding ID: 92f6259a15806601882eb0d1921ade93ab323f998fb0ccf5592d81ea996f4dbb\n",
      "Insert of existing embedding ID: a8f92f52253b61581ce092ff0a48772ca34e3253c937d56b4605b19990eb51a0\n",
      "Add of existing embedding ID: a8f92f52253b61581ce092ff0a48772ca34e3253c937d56b4605b19990eb51a0\n",
      "Insert of existing embedding ID: e1b544740b1ce2cf31f6bb205aa9a0b979705baeaa11bb00ec76c9c9cf0ecace\n",
      "Add of existing embedding ID: e1b544740b1ce2cf31f6bb205aa9a0b979705baeaa11bb00ec76c9c9cf0ecace\n",
      "Insert of existing embedding ID: 2a529cbcf42598a62a2df58e968d016c5d63ede8e0cfa2ce105cfff4ab97879b\n",
      "Add of existing embedding ID: 2a529cbcf42598a62a2df58e968d016c5d63ede8e0cfa2ce105cfff4ab97879b\n",
      "Insert of existing embedding ID: 33fc3bd460ce8a7fcbcef3ccd51db086608f3b82d36b89e2d59263fb1a5ac6d6\n",
      "Add of existing embedding ID: 33fc3bd460ce8a7fcbcef3ccd51db086608f3b82d36b89e2d59263fb1a5ac6d6\n",
      "Insert of existing embedding ID: 6dee948c0d9ede0d48f07e45298816178ae459947e405d6304caac8de0d8f978\n",
      "Add of existing embedding ID: 6dee948c0d9ede0d48f07e45298816178ae459947e405d6304caac8de0d8f978\n",
      "Insert of existing embedding ID: 532c7211fe06a12473facb0717dfc48b95429fcaa1883d81b59627a9466fe7d7\n",
      "Add of existing embedding ID: 532c7211fe06a12473facb0717dfc48b95429fcaa1883d81b59627a9466fe7d7\n",
      "Insert of existing embedding ID: e403064f92424cfb227d860122e06cad2ac36df4c2d7d630b540aa7dbe3b11ce\n",
      "Add of existing embedding ID: e403064f92424cfb227d860122e06cad2ac36df4c2d7d630b540aa7dbe3b11ce\n",
      "Insert of existing embedding ID: ad413779bd27965da25ae81f6f6ee15a327239136c4a67881192d1875812fa41\n",
      "Add of existing embedding ID: ad413779bd27965da25ae81f6f6ee15a327239136c4a67881192d1875812fa41\n",
      "Insert of existing embedding ID: f8034da546bd927cb1a9a7877d9592d57e4bebfa5bcdeca12e8e2345e0baffb2\n",
      "Add of existing embedding ID: f8034da546bd927cb1a9a7877d9592d57e4bebfa5bcdeca12e8e2345e0baffb2\n",
      "Insert of existing embedding ID: 6f29391f5d1fdedd985726a4b6022c7d93cf4dcad4dca4b8f85a0e863fce0a33\n",
      "Add of existing embedding ID: 6f29391f5d1fdedd985726a4b6022c7d93cf4dcad4dca4b8f85a0e863fce0a33\n",
      "Insert of existing embedding ID: a6cbe2a4efdd3f3e41d6d235b2e30d83e2d273eabb518ad97aaa3fd6bb67bcda\n",
      "Add of existing embedding ID: a6cbe2a4efdd3f3e41d6d235b2e30d83e2d273eabb518ad97aaa3fd6bb67bcda\n",
      "Insert of existing embedding ID: 842e433b4e73c1fea34181d9b9756b358e1f78912f61aa0958b88f4236cda3af\n",
      "Add of existing embedding ID: 842e433b4e73c1fea34181d9b9756b358e1f78912f61aa0958b88f4236cda3af\n",
      "Insert of existing embedding ID: 39b6439d9dec3d4ebd73d6f6e62a077efb46af3a46ad4025d20e513b8033e522\n",
      "Add of existing embedding ID: 39b6439d9dec3d4ebd73d6f6e62a077efb46af3a46ad4025d20e513b8033e522\n",
      "Insert of existing embedding ID: 1134db7d1d25652cccd05b2426983614bcebe7ab22b533b3659878f96a13b8fa\n",
      "Add of existing embedding ID: 1134db7d1d25652cccd05b2426983614bcebe7ab22b533b3659878f96a13b8fa\n",
      "Insert of existing embedding ID: 76af59ca364298c4e48479a19dae4d069bab2a629e98ab68a1e103b0b7bf3c18\n",
      "Add of existing embedding ID: 76af59ca364298c4e48479a19dae4d069bab2a629e98ab68a1e103b0b7bf3c18\n",
      "Insert of existing embedding ID: fa886790c106279e0198a32b7d62f01cb11f3f5662ab4d7a44d41cd9b4b75ae1\n",
      "Add of existing embedding ID: fa886790c106279e0198a32b7d62f01cb11f3f5662ab4d7a44d41cd9b4b75ae1\n",
      "Insert of existing embedding ID: 7cf1899df5aa0a665dda66d6798cca3174c3f0231750e50d9f9bb8fffb42014a\n",
      "Add of existing embedding ID: 7cf1899df5aa0a665dda66d6798cca3174c3f0231750e50d9f9bb8fffb42014a\n",
      "Insert of existing embedding ID: 3440a0ef5a49cd6d4347b2b3c8000fc98e9bbd3a525d01959bafb4f9cb00e15d\n",
      "Add of existing embedding ID: 3440a0ef5a49cd6d4347b2b3c8000fc98e9bbd3a525d01959bafb4f9cb00e15d\n",
      "Insert of existing embedding ID: 0926da3665a4f572801f3eb1ad09b6583a7b78cef7862a04cac5ee1677b13057\n",
      "Add of existing embedding ID: 0926da3665a4f572801f3eb1ad09b6583a7b78cef7862a04cac5ee1677b13057\n",
      "Insert of existing embedding ID: 52ec1c932fbc1d44bd156f69212f2f52a8b6e16852bf1dcc376b1dfc8836269d\n",
      "Add of existing embedding ID: 52ec1c932fbc1d44bd156f69212f2f52a8b6e16852bf1dcc376b1dfc8836269d\n",
      "Insert of existing embedding ID: 171609df4c3c0df237a8f4fa1d2a9cb929f9e1e94834cc45606e01c1e6b4b0ac\n",
      "Add of existing embedding ID: 171609df4c3c0df237a8f4fa1d2a9cb929f9e1e94834cc45606e01c1e6b4b0ac\n",
      "Insert of existing embedding ID: 31f043bc5550f6a3111167637d9867c0ffed29288c0b9dc1ec1bfcfe6c784679\n",
      "Add of existing embedding ID: 31f043bc5550f6a3111167637d9867c0ffed29288c0b9dc1ec1bfcfe6c784679\n",
      "Insert of existing embedding ID: fa896a7737a544a2fa33edf9d098c6efed7c40b86f8a1287b45db6d39928c3f0\n",
      "Add of existing embedding ID: fa896a7737a544a2fa33edf9d098c6efed7c40b86f8a1287b45db6d39928c3f0\n",
      "Insert of existing embedding ID: bc4677bfdf2b8327c733ac2d5169822d23acc50ebee5b9e989d661ec5793fb02\n",
      "Add of existing embedding ID: bc4677bfdf2b8327c733ac2d5169822d23acc50ebee5b9e989d661ec5793fb02\n",
      "Insert of existing embedding ID: 991ac2f93cac1470878eb22bf6d5848ce13fb4da292bd2c3297f5eff991a645a\n",
      "Add of existing embedding ID: 991ac2f93cac1470878eb22bf6d5848ce13fb4da292bd2c3297f5eff991a645a\n",
      "Insert of existing embedding ID: 3e1a6123a7a38f64e43da28517f5da6ce296e0ae7e067217d96330447bb92cf0\n",
      "Add of existing embedding ID: 3e1a6123a7a38f64e43da28517f5da6ce296e0ae7e067217d96330447bb92cf0\n",
      "Insert of existing embedding ID: 6e78a9def86831b49ddcb007113239e59363e0680d1197a48f41463a8bfb3547\n",
      "Add of existing embedding ID: 6e78a9def86831b49ddcb007113239e59363e0680d1197a48f41463a8bfb3547\n",
      "Insert of existing embedding ID: fac2e2ce9b903a95a1fc70bda8e05f8cdba6dce721622a61db9a1c6a5ae837ff\n",
      "Add of existing embedding ID: fac2e2ce9b903a95a1fc70bda8e05f8cdba6dce721622a61db9a1c6a5ae837ff\n",
      "Insert of existing embedding ID: 1abed788c7545e9e3be6c4d924312debc7bc56cc8d86f10ef532f61463b326a9\n",
      "Add of existing embedding ID: 1abed788c7545e9e3be6c4d924312debc7bc56cc8d86f10ef532f61463b326a9\n",
      "Insert of existing embedding ID: 680f749f6c375b539fb2c7ab1510565c24bacd6c862a67caa31e29b760a47341\n",
      "Add of existing embedding ID: 680f749f6c375b539fb2c7ab1510565c24bacd6c862a67caa31e29b760a47341\n",
      "Insert of existing embedding ID: ccd1f96073945f3ead4b067569b532f5c7a26faf5f6d32739c4015f7178dcfba\n",
      "Add of existing embedding ID: ccd1f96073945f3ead4b067569b532f5c7a26faf5f6d32739c4015f7178dcfba\n",
      "Insert of existing embedding ID: ad46dbc7e16ac2fd209fdc5cac2f129f32e35f5522bd11222371644029998027\n",
      "Add of existing embedding ID: ad46dbc7e16ac2fd209fdc5cac2f129f32e35f5522bd11222371644029998027\n",
      "Insert of existing embedding ID: cf099280cd9717ed3416c03eb6ba878608a802afdd77ce06361dfbd3f6aaa425\n",
      "Add of existing embedding ID: cf099280cd9717ed3416c03eb6ba878608a802afdd77ce06361dfbd3f6aaa425\n",
      "Insert of existing embedding ID: f3ef095b495df3293b1684fb8fb2ba4664ec609196c8fbffdaabca2c8a2e46e7\n",
      "Add of existing embedding ID: f3ef095b495df3293b1684fb8fb2ba4664ec609196c8fbffdaabca2c8a2e46e7\n",
      "Insert of existing embedding ID: c498bd818483a4f25adb287785d652a34b8fe52f657aad4d01c396f125f4c0c7\n",
      "Add of existing embedding ID: c498bd818483a4f25adb287785d652a34b8fe52f657aad4d01c396f125f4c0c7\n",
      "Insert of existing embedding ID: 877546c92bd72d50793db4300caf233cdd0079718286c5062eb8b1d24e5c96cc\n",
      "Add of existing embedding ID: 877546c92bd72d50793db4300caf233cdd0079718286c5062eb8b1d24e5c96cc\n",
      "Insert of existing embedding ID: d3772b46c48cdaca5b8b3757426b42476b67bfab519ba467b9360a8ac26a5ea2\n",
      "Add of existing embedding ID: d3772b46c48cdaca5b8b3757426b42476b67bfab519ba467b9360a8ac26a5ea2\n",
      "Insert of existing embedding ID: af355688a06cd7e5e9b5350ae69d248eeab8be8ff39d9f0b0774e1329ed0e253\n",
      "Add of existing embedding ID: af355688a06cd7e5e9b5350ae69d248eeab8be8ff39d9f0b0774e1329ed0e253\n",
      "Insert of existing embedding ID: 32060f7ade5ad3b8f981f765437eb9f6997d13e188e865b6687fadf5b500887c\n",
      "Add of existing embedding ID: 32060f7ade5ad3b8f981f765437eb9f6997d13e188e865b6687fadf5b500887c\n",
      "Insert of existing embedding ID: 9e59906cbc067c0de30ce09f0a76fc68e90715e848c3adb4270dba694f9798a4\n",
      "Add of existing embedding ID: 9e59906cbc067c0de30ce09f0a76fc68e90715e848c3adb4270dba694f9798a4\n",
      "Insert of existing embedding ID: 0943761c702df6f9ca0ceedb4fa661658b1324c741b8b7e2b0dce49c5b128041\n",
      "Add of existing embedding ID: 0943761c702df6f9ca0ceedb4fa661658b1324c741b8b7e2b0dce49c5b128041\n",
      "Insert of existing embedding ID: 77c309da5ee6b51ced3c1925d40a1d43b9fa31f2c421f68c9caf9289b0f64907\n",
      "Add of existing embedding ID: 77c309da5ee6b51ced3c1925d40a1d43b9fa31f2c421f68c9caf9289b0f64907\n",
      "Insert of existing embedding ID: b12cfc4c50fbef175e6adc397da702dcfa674633ab1eab9e0b6eb706e10c9ecb\n",
      "Add of existing embedding ID: b12cfc4c50fbef175e6adc397da702dcfa674633ab1eab9e0b6eb706e10c9ecb\n",
      "Insert of existing embedding ID: 430f57914a2f14360eb59a7cd3c05664b2c391449a63cb3a25a31339a24ee832\n",
      "Add of existing embedding ID: 430f57914a2f14360eb59a7cd3c05664b2c391449a63cb3a25a31339a24ee832\n",
      "Insert of existing embedding ID: 086fa65eaf0a7d558b4c42280ecb0c692e28f30ab068d7aa426a59071396c066\n",
      "Add of existing embedding ID: 086fa65eaf0a7d558b4c42280ecb0c692e28f30ab068d7aa426a59071396c066\n",
      "Insert of existing embedding ID: d44f3927d26f21197cfddb44b07e1c0537ec5fde5f873f4374d728dc029f7927\n",
      "Add of existing embedding ID: d44f3927d26f21197cfddb44b07e1c0537ec5fde5f873f4374d728dc029f7927\n"
     ]
    },
    {
     "name": "stdout",
     "output_type": "stream",
     "text": [
      "\n",
      "Successfully wrote 50 documents to the Chroma document store.\n",
      "\n",
      "Embedding vector size:\n",
      "768\n",
      "\n",
      "Embedding vectors:\n",
      "[[ 2.63867360e-02 -9.44992620e-03 -2.69568488e-02 ...  2.41002049e-02\n",
      "  -2.41391244e-03  9.41916090e-03]\n",
      " [ 3.82876843e-02  1.24860005e-02 -2.19820794e-02 ... -3.46753858e-02\n",
      "  -8.12453145e-05  8.41767341e-03]\n",
      " [ 8.50318000e-03  4.70687263e-02 -2.63809357e-02 ...  1.25584826e-02\n",
      "   5.48392497e-02 -8.00929498e-03]\n",
      " ...\n",
      " [ 7.38279298e-02 -2.30819527e-02 -1.38115948e-02 ... -3.40640661e-03\n",
      "  -2.37715580e-02 -2.56267581e-02]\n",
      " [ 5.23505658e-02 -2.37718653e-02 -1.19062653e-02 ...  2.86244359e-02\n",
      "   1.00457929e-02 -2.81636957e-02]\n",
      " [ 1.09630890e-01 -1.72770862e-02 -1.24559943e-02 ...  1.30443135e-02\n",
      "  -5.17518893e-02 -4.05901968e-02]]\n"
     ]
    }
   ],
   "source": [
    "from haystack_integrations.document_stores.chroma import ChromaDocumentStore\n",
    "from haystack.components.embedders import SentenceTransformersDocumentEmbedder\n",
    "\n",
    "# Added\n",
    "from haystack.document_stores.types import DuplicatePolicy\n",
    "\n",
    "# Instantiate the ChromaDocumentStore\n",
    "document_store_ = ChromaDocumentStore(\n",
    "    collection_name=\"my_collection\",\n",
    "    # embedding_function=\"sentence_transformers\",\n",
    "    persist_path=\"./chroma_store\",\n",
    ")\n",
    "\n",
    "# Instantiate the Embedder\n",
    "embedder_ = SentenceTransformersDocumentEmbedder(\n",
    "    model=\"sentence-transformers/all-mpnet-base-v2\",\n",
    "    # WRONG - Different embedding dimension compared to SentenceTransformersDocumentEmbedder use \"all-mpnet-base-v2\"\n",
    "    # model=\"sentence-transformers/all-MiniLM-L6-v2\",\n",
    "    batch_size=16,\n",
    "    normalize_embeddings=True,\n",
    "    progress_bar=True\n",
    ")\n",
    "\n",
    "# Load embedding model\n",
    "embedder_.warm_up()\n",
    "\n",
    "def embed_documents(documents):\n",
    "    for doc in documents:\n",
    "        if doc.embedding is None:\n",
    "            embedded_docs = embedder_.run([doc])\n",
    "            doc.embedding = embedded_docs['documents'][0].embedding\n",
    "    return documents\n",
    "\n",
    "documents_ = embed_documents(documents)\n",
    "\n",
    "num_docs_written = document_store_.write_documents(documents_)\n",
    "\n",
    "print(f\"\\nSuccessfully wrote {num_docs_written} documents to the Chroma document store.\")\n",
    "\n",
    "result = document_store_._collection.get(include=[\"documents\", \"embeddings\"])\n",
    "# print(f\"IDs{result['ids']}\")\n",
    "print(f\"\\nEmbedding vector size:\\n{len(result['embeddings'][0])}\\n\")\n",
    "print(f\"Embedding vectors:\\n{result['embeddings']}\")\n"
   ]
  },
  {
   "cell_type": "markdown",
   "id": "5d425e20",
   "metadata": {},
   "source": [
    "or\n"
   ]
  },
  {
   "cell_type": "code",
   "execution_count": 5,
   "id": "kP9Unb8Zu2ks",
   "metadata": {
    "id": "kP9Unb8Zu2ks"
   },
   "outputs": [
    {
     "data": {
      "application/vnd.jupyter.widget-view+json": {
       "model_id": "e06d456a41624a3bbd4feb53d4294fdb",
       "version_major": 2,
       "version_minor": 0
      },
      "text/plain": [
       "Batches:   0%|          | 0/2 [00:00<?, ?it/s]"
      ]
     },
     "metadata": {},
     "output_type": "display_data"
    },
    {
     "name": "stdout",
     "output_type": "stream",
     "text": [
      "\n",
      "Embedding vector size:\n",
      "768\n",
      "\n",
      "Embedding vectors:\n",
      "[[ 2.63867248e-02 -9.44987591e-03 -2.69568302e-02 ...  2.41001826e-02\n",
      "  -2.41393945e-03  9.41917486e-03]\n",
      " [ 3.82877253e-02  1.24859819e-02 -2.19820403e-02 ... -3.46753784e-02\n",
      "  -8.12341532e-05  8.41767900e-03]\n",
      " [ 8.50318745e-03  4.70686704e-02 -2.63809282e-02 ...  1.25584723e-02\n",
      "   5.48393466e-02 -8.00927915e-03]\n",
      " ...\n",
      " [ 7.38279894e-02 -2.30819583e-02 -1.38115929e-02 ... -3.40642035e-03\n",
      "  -2.37715840e-02 -2.56267302e-02]\n",
      " [ 5.23505583e-02 -2.37718429e-02 -1.19062616e-02 ...  2.86244228e-02\n",
      "   1.00458078e-02 -2.81636752e-02]\n",
      " [ 1.09630935e-01 -1.72771998e-02 -1.24559877e-02 ...  1.30443461e-02\n",
      "  -5.17520607e-02 -4.05901819e-02]]\n"
     ]
    }
   ],
   "source": [
    "from haystack_integrations.document_stores.chroma import ChromaDocumentStore\n",
    "from haystack.components.embedders import SentenceTransformersDocumentEmbedder, SentenceTransformersTextEmbedder\n",
    "\n",
    "# Added\n",
    "from haystack.components.writers import DocumentWriter\n",
    "from haystack.document_stores.types import DuplicatePolicy\n",
    "from haystack import Pipeline\n",
    "\n",
    "def setup_document_store(documents: List[Document]):\n",
    "    \"\"\" Initialize and populate ChromaDB document store \"\"\"\n",
    "    #   Initialize document store\n",
    "    document_store = ChromaDocumentStore()\n",
    "\n",
    "    # Create indexing pipeline\n",
    "    indexing = Pipeline()\n",
    "    # Add embedder to generate document embeddings\n",
    "    indexing.add_component(\"embedder\", SentenceTransformersDocumentEmbedder())\n",
    "    # Add document writer to store documents and embeddings in the document store\n",
    "    indexing.add_component(\"writer\", DocumentWriter(document_store, policy=DuplicatePolicy.OVERWRITE))\n",
    "    # Connect embedder output to writer input\n",
    "    indexing.connect(\"embedder.documents\", \"writer.documents\")\n",
    "    # Run indexing pipeline to embed and store documents\n",
    "    indexing.run({\"embedder\": {\"documents\": list(documents)}})\n",
    "    return document_store\n",
    "\n",
    "# Initialize document store\n",
    "document_store = setup_document_store(documents)\n",
    "\n",
    "# Check the embedding vectors\n",
    "result = document_store._collection.get(include=[\"documents\", \"embeddings\"])\n",
    "# print(f\"IDs{result['ids']}\")\n",
    "print(f\"\\nEmbedding vector size:\\n{len(result['embeddings'][0])}\\n\")\n",
    "print(f\"Embedding vectors:\\n{result['embeddings']}\")"
   ]
  },
  {
   "cell_type": "markdown",
   "id": "Im50bTA7u2ks",
   "metadata": {
    "id": "Im50bTA7u2ks"
   },
   "source": [
    "### Embedding the Documents\n",
    "We’ll now create an embedding pipeline to add vector embeddings for each document in the store.\n"
   ]
  },
  {
   "cell_type": "code",
   "execution_count": 6,
   "id": "72ygRMbEu2ks",
   "metadata": {
    "id": "72ygRMbEu2ks"
   },
   "outputs": [],
   "source": [
    "# # Initialize the embedding model\n",
    "# embedder = SentenceTransformersDocumentEmbedder(model='all-MiniLM-L6-v2')\n",
    "# # embedder = SentenceTransformersDocumentEmbedder()\n",
    "\n",
    "# # Embed documents in the document store\n",
    "# document_store.update_embeddings(embedder)"
   ]
  },
  {
   "cell_type": "markdown",
   "id": "moKXR7YFu2kt",
   "metadata": {
    "id": "moKXR7YFu2kt"
   },
   "source": [
    "## Part 3: Build a Basic RAG Pipeline\n",
    "We will create a RAG pipeline that combines retrieval and generation to answer user queries.\n",
    "\n",
    "### Steps:\n",
    "- Set up retrieval using the Chroma document store.\n",
    "- Create a generator component to rephrase retrieved answers.\n",
    "- Assemble a RAG pipeline that uses retrieval for context.\n"
   ]
  },
  {
   "cell_type": "code",
   "execution_count": null,
   "id": "HUSNwp9su2kt",
   "metadata": {
    "id": "HUSNwp9su2kt"
   },
   "outputs": [],
   "source": [
    "from haystack import Pipeline\n",
    "from haystack.components.generators import HuggingFaceLocalGenerator\n",
    "from haystack_integrations.components.retrievers.chroma import ChromaEmbeddingRetriever\n",
    "# Added\n",
    "from haystack.components.builders import AnswerBuilder # For structuring the answer\n",
    "from haystack.components.builders.prompt_builder import PromptBuilder  # For constructing prompts\n",
    "# OpenAI\n",
    "from haystack.components.generators import OpenAIGenerator  # For using OpenAI's language model\n",
    "from haystack.utils import Secret  # For securely storing the OpenAI API key\n",
    "\n",
    "# Initialize retriever and generator\n",
    "retriever = ChromaEmbeddingRetriever(document_store=document_store)\n",
    "\n",
    "# # Initialize a local Hugging Face generator\n",
    "# generator = HuggingFaceLocalGenerator(\n",
    "#     model=\"google/flan-t5-large\", # Specify the pre-trained model to use\n",
    "#     task=\"text2text-generation\", # Define the task type for the model\n",
    "#     generation_kwargs={ # Set parameters for text generation\n",
    "#         \"max_new_tokens\": 1024, # Maximum number of tokens to generate\n",
    "#         # \"temperature\": 0.9, # Controls the randomness of the generated text\n",
    "#     },\n",
    "# )\n",
    "\n",
    "# OpenAI\n",
    "openai_key = \"YOUR_OPENAI_API_KEY\"\n",
    "generator = OpenAIGenerator(api_key=Secret.from_token(openai_key))\n",
    "\n",
    "# Define the prompt template using Jinja2 syntax\n",
    "prompt_template = \"\"\"\n",
    "Find the question in these documents and answer it following the information gvien in that document,\n",
    "Documents:\n",
    "{% for doc in documents %}\n",
    "    {{ doc.content }}\n",
    "{% endfor %}\n",
    "Question: {{question}}\n",
    "Answer:\n",
    "\"\"\"\n",
    "\n",
    "prompt_builder = PromptBuilder(template=prompt_template)\n",
    "# answer_builder = AnswerBuilder()\n",
    "query_embedder = SentenceTransformersTextEmbedder()"
   ]
  },
  {
   "cell_type": "markdown",
   "id": "46e63f7b",
   "metadata": {},
   "source": [
    "### Building Pipeline"
   ]
  },
  {
   "cell_type": "code",
   "execution_count": 13,
   "id": "a10262f7",
   "metadata": {},
   "outputs": [
    {
     "data": {
      "text/plain": [
       "<haystack.core.pipeline.pipeline.Pipeline object at 0x31e61e560>\n",
       "🚅 Components\n",
       "  - query_embedder: SentenceTransformersTextEmbedder\n",
       "  - retriever: ChromaEmbeddingRetriever\n",
       "  - prompt_builder: PromptBuilder\n",
       "  - llm: OpenAIGenerator\n",
       "🛤️ Connections\n",
       "  - query_embedder.embedding -> retriever.query_embedding (List[float])\n",
       "  - retriever.documents -> prompt_builder.documents (List[Document])\n",
       "  - prompt_builder.prompt -> llm.prompt (str)"
      ]
     },
     "execution_count": 13,
     "metadata": {},
     "output_type": "execute_result"
    }
   ],
   "source": [
    "# Build RAG pipeline\n",
    "RAG = Pipeline()\n",
    "# Add components\n",
    "RAG.add_component(\"query_embedder\", query_embedder)\n",
    "RAG.add_component('retriever', retriever)\n",
    "RAG.add_component(\"prompt_builder\", prompt_builder)\n",
    "RAG.add_component('llm', generator)\n",
    "# RAG.add_component('answer_builder', answer_builder)\n",
    "\n",
    "# Connect components\n",
    "RAG.connect(\"query_embedder\", \"retriever.query_embedding\")\n",
    "# Connect the retriever's output to the prompt builder's 'documents' input\n",
    "RAG.connect(\"retriever\", \"prompt_builder.documents\")\n",
    "# Connect the prompt builder's output to the new 'llm' component\n",
    "RAG.connect(\"prompt_builder\", \"llm\")\n",
    "\n",
    "# If you want to add an answer builder\n",
    "# # Connect the llm output response to the answer builder reply input\n",
    "# RAG.connect(\"llm.replies\", \"answer_builder.replies\")\n",
    "# # Connect the output of the local LLM to the answer builder's 'replies' input\n",
    "# RAG.connect(\"llm\", \"answer_builder.replies\")\n",
    "# # Connect the retriever's output to the answer builder's 'documents' input\n",
    "# RAG.connect(\"retriever\", \"answer_builder.documents\")"
   ]
  },
  {
   "cell_type": "markdown",
   "id": "c6wM9MKju2kt",
   "metadata": {
    "id": "c6wM9MKju2kt"
   },
   "source": [
    "### Testing the RAG Pipeline\n",
    "Now, let’s test the RAG pipeline by asking it a question from the FAQ dataset.\n"
   ]
  },
  {
   "cell_type": "code",
   "execution_count": 14,
   "id": "suuduT3Au2kt",
   "metadata": {
    "id": "suuduT3Au2kt"
   },
   "outputs": [
    {
     "data": {
      "application/vnd.jupyter.widget-view+json": {
       "model_id": "f6d774d22eb04709a22c4cd75425b7ee",
       "version_major": 2,
       "version_minor": 0
      },
      "text/plain": [
       "Batches:   0%|          | 0/1 [00:00<?, ?it/s]"
      ]
     },
     "metadata": {},
     "output_type": "display_data"
    },
    {
     "name": "stdout",
     "output_type": "stream",
     "text": [
      "No, next-day delivery is not specifically mentioned. However, couriers attempt to re-deliver the order on the next working day if it was missed. The estimated delivery time is based on the product page and sellers typically ship orders 1-2 business days before the promised delivery date.\n"
     ]
    }
   ],
   "source": [
    "# Sample query\n",
    "query = \"Do you guys do next-day delivery?\"\n",
    "# query = \"I missed the delivery of my order today. What should I do?\"\n",
    "# query = \"What is the return policy?\"\n",
    "# query = \"Hey! How long will my order take to get here?\"\n",
    "# prediction = \"The courier service delivering your order usually tries to deliver on the next business day in case you miss a delivery.\\nYou can check your SMS for more details on when the courier service will try to deliver again.\\n\"\n",
    "\n",
    "# Run the pipeline with embedder and retriever in one execution\n",
    "results = RAG.run(\n",
    "    {\n",
    "        \"query_embedder\": {\"text\": query}, #send query to embedder\n",
    "        \"prompt_builder\": {\"question\": query}\n",
    "        # \"answer_builder\": {\"query\": query}\n",
    "    }\n",
    ")\n",
    "\n",
    "print(results['llm']['replies'][0])"
   ]
  },
  {
   "cell_type": "markdown",
   "id": "jseBZ4Ldu2kt",
   "metadata": {
    "id": "jseBZ4Ldu2kt"
   },
   "source": [
    "## Part 4: Deploying as a Chatbot on Hugging Face Spaces\n",
    "Finally, we’ll deploy this RAG model as an interactive chatbot on Hugging Face Spaces. This allows you to test it with real questions.\n",
    "\n",
    "### Steps:\n",
    "- Define a Gradio interface for the chatbot (search for `gradio chatbot` to find the documentation).\n",
    "- Deploy it to Hugging Face Spaces."
   ]
  },
  {
   "cell_type": "code",
   "execution_count": null,
   "id": "3jdrv9hPu2kt",
   "metadata": {
    "id": "3jdrv9hPu2kt"
   },
   "outputs": [],
   "source": [
    "import gradio as gr\n",
    "\n",
    "# Define chatbot function\n",
    "\n",
    "\n",
    "# Create Gradio interface\n",
    "\n",
    "\n",
    "# Launch interface\n"
   ]
  },
  {
   "cell_type": "markdown",
   "id": "U34Om139u2ku",
   "metadata": {
    "id": "U34Om139u2ku"
   },
   "source": [
    "## Potential questions to test\n",
    "\n",
    "**Shipping and Delivery**:\n",
    "* \"Hey! How long will my order take to get here?\"\n",
    "* \"Do you guys do next-day delivery?\"\n",
    "* \"Can I get updates on where my package is right now?\"\n",
    "\n",
    "⠀**Returns and Refunds**:\n",
    "* \"Hi, what's the deal with returns if I don’t like something?\"\n",
    "* \"How do I go about getting a refund?\"\n",
    "* \"Is there a fee if I want to send something back?\"\n",
    "\n",
    "⠀**Account and Orders**:\n",
    "* \"Hey, I forgot my password. Can you help me reset it?\"\n",
    "* \"I just placed an order—any chance I can cancel it?\"\n",
    "* \"How do I check what I’ve ordered in the past?\"\n",
    "\n",
    "⠀**Product Information**:\n",
    "* \"Are your products eco-friendly by any chance?\"\n",
    "* \"Do I get a discount if I buy a bunch at once?\"\n",
    "* \"Got any tips on choosing the right size?\"\n",
    "\n",
    "⠀**Payment and Security**:\n",
    "* \"What types of payment do you guys take?\"\n",
    "* \"Is my info safe when I pay here?\"\n",
    "* \"Do you offer payment plans, like monthly installments?\"\n",
    "\n",
    "⠀**General Inquiries**:\n",
    "* \"How can I get in touch with someone from your team?\"\n",
    "* \"Do you have gift wrapping options?\"\n",
    "* \"What should I do if something arrives damaged?\"\n",
    "\n",
    "\n",
    "## Conclusion and Next Steps\n",
    "You’ve successfully created and deployed a chatbot that answers e-commerce FAQs using RAG.\n",
    "\n",
    "Consider these additional steps:\n",
    "- Improve retrieval accuracy with additional data.\n",
    "- Experiment with different embedding models.\n",
    "- Add advanced features, like re-ranking retrieved answers."
   ]
  }
 ],
 "metadata": {
  "colab": {
   "provenance": []
  },
  "kernelspec": {
   "display_name": "base",
   "language": "python",
   "name": "python3"
  },
  "language_info": {
   "codemirror_mode": {
    "name": "ipython",
    "version": 3
   },
   "file_extension": ".py",
   "mimetype": "text/x-python",
   "name": "python",
   "nbconvert_exporter": "python",
   "pygments_lexer": "ipython3",
   "version": "3.10.13"
  }
 },
 "nbformat": 4,
 "nbformat_minor": 5
}
